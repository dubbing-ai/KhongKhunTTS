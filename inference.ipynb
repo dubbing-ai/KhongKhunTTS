{
 "cells": [
  {
   "cell_type": "markdown",
   "metadata": {},
   "source": [
    "# Import"
   ]
  },
  {
   "cell_type": "code",
   "execution_count": 1,
   "metadata": {},
   "outputs": [],
   "source": [
    "import string\n",
    "import IPython\n",
    "from IPython.display import Audio\n",
    "import torch\n",
    "import os\n",
    "\n",
    "from TTS.tts.utils.synthesis import synthesis\n",
    "try:\n",
    "  from TTS.utils.audio import AudioProcessor\n",
    "except:\n",
    "  from TTS.utils.audio import AudioProcessor\n",
    "from TTS.tts.models import setup_model\n",
    "from TTS.config import load_config\n",
    "from TTS.tts.models.vits import *\n",
    "from TTS.tts.utils.speakers import SpeakerManager\n",
    "\n",
    "\n",
    "from TTS.bin.resample import resample_files\n",
    "from TTS.utils.vad import get_vad_model_and_utils, remove_silence"
   ]
  },
  {
   "cell_type": "markdown",
   "metadata": {},
   "source": [
    "# Define Parameter and Constant"
   ]
  },
  {
   "cell_type": "code",
   "execution_count": 2,
   "metadata": {},
   "outputs": [],
   "source": [
    "OUT_PATH = 'output'\n",
    "BASE_MODEL_PATH = './model'\n",
    "\n",
    "# model vars \n",
    "MODEL_PATH = os.path.join(BASE_MODEL_PATH, 'best_model_160217.pth')\n",
    "CONFIG_PATH = os.path.join(BASE_MODEL_PATH, 'config.json')\n",
    "TTS_LANGUAGES = os.path.join(BASE_MODEL_PATH, 'language_ids.json')\n",
    "USE_CUDA = torch.cuda.is_available()\n",
    "REFERENCE_PATH = \"./reference_wav/Mingall-th.wav\"\n",
    "SPEAKER_FOLDER = REFERENCE_PATH.split(\"/\")[-1].split(\".\")[0]\n",
    "\n",
    "model_name = MODEL_PATH.split(\".\")[0]"
   ]
  },
  {
   "cell_type": "markdown",
   "metadata": {},
   "source": [
    "# Setup Model and Config"
   ]
  },
  {
   "cell_type": "code",
   "execution_count": 3,
   "metadata": {},
   "outputs": [
    {
     "name": "stdout",
     "output_type": "stream",
     "text": [
      " > Setting up Audio Processor...\n",
      " | > sample_rate:16000\n",
      " | > resample:False\n",
      " | > num_mels:80\n",
      " | > log_func:np.log10\n",
      " | > min_level_db:0\n",
      " | > frame_shift_ms:None\n",
      " | > frame_length_ms:None\n",
      " | > ref_level_db:None\n",
      " | > fft_size:1024\n",
      " | > power:None\n",
      " | > preemphasis:0.0\n",
      " | > griffin_lim_iters:None\n",
      " | > signal_norm:None\n",
      " | > symmetric_norm:None\n",
      " | > mel_fmin:0\n",
      " | > mel_fmax:None\n",
      " | > pitch_fmin:None\n",
      " | > pitch_fmax:None\n",
      " | > spec_gain:20.0\n",
      " | > stft_pad_mode:reflect\n",
      " | > max_norm:1.0\n",
      " | > clip_norm:True\n",
      " | > do_trim_silence:False\n",
      " | > trim_db:60\n",
      " | > do_sound_norm:False\n",
      " | > do_amp_to_db_linear:True\n",
      " | > do_amp_to_db_mel:True\n",
      " | > do_rms_norm:False\n",
      " | > db_level:None\n",
      " | > stats_path:None\n",
      " | > base:10\n",
      " | > hop_length:256\n",
      " | > win_length:1024\n",
      " > Using model: vits\n",
      " > Setting up Audio Processor...\n",
      " | > sample_rate:16000\n",
      " | > resample:False\n",
      " | > num_mels:80\n",
      " | > log_func:np.log10\n",
      " | > min_level_db:0\n",
      " | > frame_shift_ms:None\n",
      " | > frame_length_ms:None\n",
      " | > ref_level_db:None\n",
      " | > fft_size:1024\n",
      " | > power:None\n",
      " | > preemphasis:0.0\n",
      " | > griffin_lim_iters:None\n",
      " | > signal_norm:None\n",
      " | > symmetric_norm:None\n",
      " | > mel_fmin:0\n",
      " | > mel_fmax:None\n",
      " | > pitch_fmin:None\n",
      " | > pitch_fmax:None\n",
      " | > spec_gain:20.0\n",
      " | > stft_pad_mode:reflect\n",
      " | > max_norm:1.0\n",
      " | > clip_norm:True\n",
      " | > do_trim_silence:False\n",
      " | > trim_db:60\n",
      " | > do_sound_norm:False\n",
      " | > do_amp_to_db_linear:True\n",
      " | > do_amp_to_db_mel:True\n",
      " | > do_rms_norm:False\n",
      " | > db_level:None\n",
      " | > stats_path:None\n",
      " | > base:10\n",
      " | > hop_length:256\n",
      " | > win_length:1024\n"
     ]
    },
    {
     "name": "stderr",
     "output_type": "stream",
     "text": [
      "/Users/titor/Library/Caches/pypoetry/virtualenvs/khongkhuntts-EJcUAAU7-py3.11/lib/python3.11/site-packages/TTS/utils/io.py:51: FutureWarning: You are using `torch.load` with `weights_only=False` (the current default value), which uses the default pickle module implicitly. It is possible to construct malicious pickle data which will execute arbitrary code during unpickling (See https://github.com/pytorch/pytorch/blob/main/SECURITY.md#untrusted-models for more details). In a future release, the default value for `weights_only` will be flipped to `True`. This limits the functions that could be executed during unpickling. Arbitrary objects will no longer be allowed to be loaded via this mode unless they are explicitly allowlisted by the user via `torch.serialization.add_safe_globals`. We recommend you start setting `weights_only=True` for any use case where you don't have full control of the loaded file. Please open an issue on GitHub for any issues related to this experimental feature.\n",
      "  return torch.load(f, map_location=map_location, **kwargs)\n"
     ]
    },
    {
     "name": "stdout",
     "output_type": "stream",
     "text": [
      " > Model fully restored. \n",
      " > Setting up Audio Processor...\n",
      " | > sample_rate:16000\n",
      " | > resample:False\n",
      " | > num_mels:64\n",
      " | > log_func:np.log10\n",
      " | > min_level_db:-100\n",
      " | > frame_shift_ms:None\n",
      " | > frame_length_ms:None\n",
      " | > ref_level_db:20\n",
      " | > fft_size:512\n",
      " | > power:1.5\n",
      " | > preemphasis:0.97\n",
      " | > griffin_lim_iters:60\n",
      " | > signal_norm:False\n",
      " | > symmetric_norm:False\n",
      " | > mel_fmin:0\n",
      " | > mel_fmax:8000.0\n",
      " | > pitch_fmin:1.0\n",
      " | > pitch_fmax:640.0\n",
      " | > spec_gain:20.0\n",
      " | > stft_pad_mode:reflect\n",
      " | > max_norm:4.0\n",
      " | > clip_norm:False\n",
      " | > do_trim_silence:False\n",
      " | > trim_db:60\n",
      " | > do_sound_norm:False\n",
      " | > do_amp_to_db_linear:True\n",
      " | > do_amp_to_db_mel:True\n",
      " | > do_rms_norm:True\n",
      " | > db_level:-27.0\n",
      " | > stats_path:None\n",
      " | > base:10\n",
      " | > hop_length:160\n",
      " | > win_length:400\n",
      " > initialization of language-embedding layers.\n"
     ]
    },
    {
     "name": "stderr",
     "output_type": "stream",
     "text": [
      "/var/folders/cm/lb23lq6s6f319w__2lgw1zfm0000gn/T/ipykernel_89670/3887792861.py:19: FutureWarning: You are using `torch.load` with `weights_only=False` (the current default value), which uses the default pickle module implicitly. It is possible to construct malicious pickle data which will execute arbitrary code during unpickling (See https://github.com/pytorch/pytorch/blob/main/SECURITY.md#untrusted-models for more details). In a future release, the default value for `weights_only` will be flipped to `True`. This limits the functions that could be executed during unpickling. Arbitrary objects will no longer be allowed to be loaded via this mode unless they are explicitly allowlisted by the user via `torch.serialization.add_safe_globals`. We recommend you start setting `weights_only=True` for any use case where you don't have full control of the loaded file. Please open an issue on GitHub for any issues related to this experimental feature.\n",
      "  cp = torch.load(MODEL_PATH, map_location=torch.device('cpu'))\n"
     ]
    }
   ],
   "source": [
    "# load the config\n",
    "C = load_config(CONFIG_PATH)\n",
    "\n",
    "# load the audio processor\n",
    "ap = AudioProcessor(**C.audio)\n",
    "\n",
    "# override config\n",
    "C[\"speakers_file\"] = None\n",
    "C[\"d_vector_file\"] = []\n",
    "C[\"language_ids_file\"] = TTS_LANGUAGES\n",
    "\n",
    "C[\"model_args\"][\"speakers_file\"] = None\n",
    "C[\"model_args\"][\"d_vector_file\"] = []\n",
    "C[\"model_args\"][\"language_ids_file\"] = TTS_LANGUAGES\n",
    "\n",
    "C.model_args['use_speaker_encoder_as_loss'] = False\n",
    "\n",
    "model = setup_model(C)\n",
    "cp = torch.load(MODEL_PATH, map_location=torch.device('cpu'))\n",
    "\n",
    "# remove speaker encoder\n",
    "model_weights = cp['model'].copy()\n",
    "for key in list(model_weights.keys()):\n",
    "  if \"speaker_encoder\" in key:\n",
    "    del model_weights[key]\n",
    "\n",
    "model.load_state_dict(model_weights)\n",
    "\n",
    "model.eval()\n",
    "\n",
    "if USE_CUDA:\n",
    "  model = model.cuda()\n",
    "\n",
    "# synthesize voice\n",
    "use_griffin_lim = False"
   ]
  },
  {
   "cell_type": "code",
   "execution_count": 4,
   "metadata": {},
   "outputs": [
    {
     "name": "stdout",
     "output_type": "stream",
     "text": [
      "Language ID: 0, Language Name: th\n"
     ]
    }
   ],
   "source": [
    "# Select language\n",
    "language_id = 0\n",
    "language_name_to_id = model.language_manager.name_to_id\n",
    "language_id_to_name = {v: k for k, v in language_name_to_id.items()}\n",
    "print(f\"Language ID: {language_id}, Language Name: {language_id_to_name[language_id]}\")"
   ]
  },
  {
   "cell_type": "code",
   "execution_count": 5,
   "metadata": {},
   "outputs": [],
   "source": [
    "model.length_scale = 1  # scaler for the duration predictor. The larger it is, the slower the speech.\n",
    "model.inference_noise_scale = 0.3 # defines the noise variance applied to the random z vector at inference.\n",
    "model.inference_noise_scale_dp = 0.3 # defines the noise variance applied to the duration predictor z vector at inference."
   ]
  },
  {
   "cell_type": "markdown",
   "metadata": {},
   "source": [
    "# Resampling audio file to 16kHz"
   ]
  },
  {
   "cell_type": "code",
   "execution_count": 6,
   "metadata": {},
   "outputs": [
    {
     "name": "stderr",
     "output_type": "stream",
     "text": [
      "Downloading: \"https://github.com/snakers4/silero-vad/zipball/master\" to /Users/titor/.cache/torch/hub/master.zip\n"
     ]
    }
   ],
   "source": [
    "model_and_utils = get_vad_model_and_utils(use_cuda=USE_CUDA, use_onnx=False)\n",
    "\n",
    "output_path, is_speech = remove_silence(\n",
    "  model_and_utils,\n",
    "  REFERENCE_PATH,\n",
    "  REFERENCE_PATH,\n",
    "  trim_just_beginning_and_end=True,\n",
    "  use_cuda=USE_CUDA\n",
    ")"
   ]
  },
  {
   "cell_type": "code",
   "execution_count": 7,
   "metadata": {},
   "outputs": [],
   "source": [
    "!ffmpeg-normalize $REFERENCE_PATH -nt rms -t=-27 -o $REFERENCE_PATH -ar 16000 -f"
   ]
  },
  {
   "cell_type": "code",
   "execution_count": 8,
   "metadata": {},
   "outputs": [
    {
     "name": "stdout",
     "output_type": "stream",
     "text": [
      " > Model fully restored. \n",
      " > Setting up Audio Processor...\n",
      " | > sample_rate:16000\n",
      " | > resample:False\n",
      " | > num_mels:64\n",
      " | > log_func:np.log10\n",
      " | > min_level_db:-100\n",
      " | > frame_shift_ms:None\n",
      " | > frame_length_ms:None\n",
      " | > ref_level_db:20\n",
      " | > fft_size:512\n",
      " | > power:1.5\n",
      " | > preemphasis:0.97\n",
      " | > griffin_lim_iters:60\n",
      " | > signal_norm:False\n",
      " | > symmetric_norm:False\n",
      " | > mel_fmin:0\n",
      " | > mel_fmax:8000.0\n",
      " | > pitch_fmin:1.0\n",
      " | > pitch_fmax:640.0\n",
      " | > spec_gain:20.0\n",
      " | > stft_pad_mode:reflect\n",
      " | > max_norm:4.0\n",
      " | > clip_norm:False\n",
      " | > do_trim_silence:False\n",
      " | > trim_db:60\n",
      " | > do_sound_norm:False\n",
      " | > do_amp_to_db_linear:True\n",
      " | > do_amp_to_db_mel:True\n",
      " | > do_rms_norm:True\n",
      " | > db_level:-27.0\n",
      " | > stats_path:None\n",
      " | > base:10\n",
      " | > hop_length:160\n",
      " | > win_length:400\n"
     ]
    }
   ],
   "source": [
    "SE_speaker_manager = SpeakerManager(encoder_model_path=C[\"model_args\"][\"speaker_encoder_model_path\"], encoder_config_path=C[\"model_args\"][\"speaker_encoder_config_path\"], use_cuda=USE_CUDA)\n",
    "reference_emb = SE_speaker_manager.compute_embedding_from_clip(REFERENCE_PATH)"
   ]
  },
  {
   "cell_type": "markdown",
   "metadata": {},
   "source": [
    "# Inference"
   ]
  },
  {
   "cell_type": "code",
   "execution_count": 9,
   "metadata": {},
   "outputs": [
    {
     "name": "stdout",
     "output_type": "stream",
     "text": [
      " > text: และนี่คือธาตุทองซาว with sampling rate: 16000\n",
      "Audio Generated\n"
     ]
    },
    {
     "data": {
      "text/html": [
       "\n",
       "                <audio  controls=\"controls\" >\n",
       "                    <source src=\"data:audio/wav;base64,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\" type=\"audio/wav\" />\n",
       "                    Your browser does not support the audio element.\n",
       "                </audio>\n",
       "              "
      ],
      "text/plain": [
       "<IPython.lib.display.Audio object>"
      ]
     },
     "metadata": {},
     "output_type": "display_data"
    }
   ],
   "source": [
    "text = \"และนี่คือธาตุทองซาว\"\n",
    "print(f\" > text: {text} with sampling rate: {ap.sample_rate}\")\n",
    "\n",
    "wav, alignment, _, _ = synthesis(\n",
    "                    model = model,\n",
    "                    text = text,\n",
    "                    CONFIG = C,\n",
    "                    use_cuda = USE_CUDA,\n",
    "                    d_vector = reference_emb,\n",
    "                    style_wav = None,\n",
    "                    language_id = language_id,\n",
    "                    use_griffin_lim = True,\n",
    "                    do_trim_silence = False,\n",
    "                ).values()\n",
    "print(\"Audio Generated\")\n",
    "IPython.display.display(Audio(wav, rate=ap.sample_rate))"
   ]
  },
  {
   "cell_type": "markdown",
   "metadata": {},
   "source": [
    "# Save to Folder"
   ]
  },
  {
   "cell_type": "code",
   "execution_count": 10,
   "metadata": {},
   "outputs": [
    {
     "name": "stdout",
     "output_type": "stream",
     "text": [
      " > Saving output to output/Mingall-th/_และนี่คือธาตุทองซาว.wav\n"
     ]
    }
   ],
   "source": [
    "file_name = text.replace(\" \", \"_\")\n",
    "file_name = model_name + '_' + file_name.translate(str.maketrans('', '', string.punctuation.replace('_', ''))) + '.wav'\n",
    "out_path = os.path.join(OUT_PATH, SPEAKER_FOLDER, file_name,)\n",
    "\n",
    "print(f\" > Saving output to {out_path}\")\n",
    "\n",
    "os.makedirs(f\"{OUT_PATH}/{SPEAKER_FOLDER}\", exist_ok=True)\n",
    "ap.save_wav(wav, out_path)"
   ]
  }
 ],
 "metadata": {
  "kernelspec": {
   "display_name": "khongkhuntts-EJcUAAU7-py3.11",
   "language": "python",
   "name": "python3"
  },
  "language_info": {
   "codemirror_mode": {
    "name": "ipython",
    "version": 3
   },
   "file_extension": ".py",
   "mimetype": "text/x-python",
   "name": "python",
   "nbconvert_exporter": "python",
   "pygments_lexer": "ipython3",
   "version": "3.11.9"
  }
 },
 "nbformat": 4,
 "nbformat_minor": 2
}
