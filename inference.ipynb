{
 "cells": [
  {
   "cell_type": "markdown",
   "metadata": {},
   "source": [
    "# Import"
   ]
  },
  {
   "cell_type": "code",
   "execution_count": 1,
   "metadata": {},
   "outputs": [],
   "source": [
    "import string\n",
    "import IPython\n",
    "from IPython.display import Audio\n",
    "import torch\n",
    "import os\n",
    "\n",
    "from TTS.tts.utils.synthesis import synthesis\n",
    "try:\n",
    "  from TTS.utils.audio import AudioProcessor\n",
    "except:\n",
    "  from TTS.utils.audio import AudioProcessor\n",
    "from TTS.tts.models import setup_model\n",
    "from TTS.config import load_config\n",
    "from TTS.tts.models.vits import *\n",
    "from TTS.tts.utils.speakers import SpeakerManager\n",
    "\n",
    "\n",
    "from TTS.bin.resample import resample_files\n",
    "from TTS.utils.vad import get_vad_model_and_utils, remove_silence"
   ]
  },
  {
   "cell_type": "markdown",
   "metadata": {},
   "source": [
    "# Define Parameter and Constant"
   ]
  },
  {
   "cell_type": "code",
   "execution_count": 2,
   "metadata": {},
   "outputs": [],
   "source": [
    "OUT_PATH = 'output'\n",
    "BASE_MODEL_PATH = './model'\n",
    "\n",
    "# model vars \n",
    "MODEL_PATH = os.path.join(BASE_MODEL_PATH, 'best_model_160217.pth')\n",
    "CONFIG_PATH = os.path.join(BASE_MODEL_PATH, 'config.json')\n",
    "TTS_LANGUAGES = os.path.join(BASE_MODEL_PATH, 'language_ids.json')\n",
    "USE_CUDA = torch.cuda.is_available()\n",
    "REFERENCE_PATH = \"./reference_wav/Mingall-th.wav\"\n",
    "SPEAKER_FOLDER = REFERENCE_PATH.split(\"/\")[-1].split(\".\")[0]\n",
    "\n",
    "model_name = MODEL_PATH.split(\".\")[0]"
   ]
  },
  {
   "cell_type": "markdown",
   "metadata": {},
   "source": [
    "# Setup Model and Config"
   ]
  },
  {
   "cell_type": "code",
   "execution_count": 3,
   "metadata": {},
   "outputs": [
    {
     "name": "stdout",
     "output_type": "stream",
     "text": [
      " > Setting up Audio Processor...\n",
      " | > sample_rate:16000\n",
      " | > resample:False\n",
      " | > num_mels:80\n",
      " | > log_func:np.log10\n",
      " | > min_level_db:0\n",
      " | > frame_shift_ms:None\n",
      " | > frame_length_ms:None\n",
      " | > ref_level_db:None\n",
      " | > fft_size:1024\n",
      " | > power:None\n",
      " | > preemphasis:0.0\n",
      " | > griffin_lim_iters:None\n",
      " | > signal_norm:None\n",
      " | > symmetric_norm:None\n",
      " | > mel_fmin:0\n",
      " | > mel_fmax:None\n",
      " | > pitch_fmin:None\n",
      " | > pitch_fmax:None\n",
      " | > spec_gain:20.0\n",
      " | > stft_pad_mode:reflect\n",
      " | > max_norm:1.0\n",
      " | > clip_norm:True\n",
      " | > do_trim_silence:False\n",
      " | > trim_db:60\n",
      " | > do_sound_norm:False\n",
      " | > do_amp_to_db_linear:True\n",
      " | > do_amp_to_db_mel:True\n",
      " | > do_rms_norm:False\n",
      " | > db_level:None\n",
      " | > stats_path:None\n",
      " | > base:10\n",
      " | > hop_length:256\n",
      " | > win_length:1024\n",
      " > Using model: vits\n",
      " > Setting up Audio Processor...\n",
      " | > sample_rate:16000\n",
      " | > resample:False\n",
      " | > num_mels:80\n",
      " | > log_func:np.log10\n",
      " | > min_level_db:0\n",
      " | > frame_shift_ms:None\n",
      " | > frame_length_ms:None\n",
      " | > ref_level_db:None\n",
      " | > fft_size:1024\n",
      " | > power:None\n",
      " | > preemphasis:0.0\n",
      " | > griffin_lim_iters:None\n",
      " | > signal_norm:None\n",
      " | > symmetric_norm:None\n",
      " | > mel_fmin:0\n",
      " | > mel_fmax:None\n",
      " | > pitch_fmin:None\n",
      " | > pitch_fmax:None\n",
      " | > spec_gain:20.0\n",
      " | > stft_pad_mode:reflect\n",
      " | > max_norm:1.0\n",
      " | > clip_norm:True\n",
      " | > do_trim_silence:False\n",
      " | > trim_db:60\n",
      " | > do_sound_norm:False\n",
      " | > do_amp_to_db_linear:True\n",
      " | > do_amp_to_db_mel:True\n",
      " | > do_rms_norm:False\n",
      " | > db_level:None\n",
      " | > stats_path:None\n",
      " | > base:10\n",
      " | > hop_length:256\n",
      " | > win_length:1024\n"
     ]
    },
    {
     "name": "stderr",
     "output_type": "stream",
     "text": [
      "/Users/titor/Library/Caches/pypoetry/virtualenvs/khongkhuntts-EJcUAAU7-py3.11/lib/python3.11/site-packages/TTS/utils/io.py:51: FutureWarning: You are using `torch.load` with `weights_only=False` (the current default value), which uses the default pickle module implicitly. It is possible to construct malicious pickle data which will execute arbitrary code during unpickling (See https://github.com/pytorch/pytorch/blob/main/SECURITY.md#untrusted-models for more details). In a future release, the default value for `weights_only` will be flipped to `True`. This limits the functions that could be executed during unpickling. Arbitrary objects will no longer be allowed to be loaded via this mode unless they are explicitly allowlisted by the user via `torch.serialization.add_safe_globals`. We recommend you start setting `weights_only=True` for any use case where you don't have full control of the loaded file. Please open an issue on GitHub for any issues related to this experimental feature.\n",
      "  return torch.load(f, map_location=map_location, **kwargs)\n"
     ]
    },
    {
     "name": "stdout",
     "output_type": "stream",
     "text": [
      " > Model fully restored. \n",
      " > Setting up Audio Processor...\n",
      " | > sample_rate:16000\n",
      " | > resample:False\n",
      " | > num_mels:64\n",
      " | > log_func:np.log10\n",
      " | > min_level_db:-100\n",
      " | > frame_shift_ms:None\n",
      " | > frame_length_ms:None\n",
      " | > ref_level_db:20\n",
      " | > fft_size:512\n",
      " | > power:1.5\n",
      " | > preemphasis:0.97\n",
      " | > griffin_lim_iters:60\n",
      " | > signal_norm:False\n",
      " | > symmetric_norm:False\n",
      " | > mel_fmin:0\n",
      " | > mel_fmax:8000.0\n",
      " | > pitch_fmin:1.0\n",
      " | > pitch_fmax:640.0\n",
      " | > spec_gain:20.0\n",
      " | > stft_pad_mode:reflect\n",
      " | > max_norm:4.0\n",
      " | > clip_norm:False\n",
      " | > do_trim_silence:False\n",
      " | > trim_db:60\n",
      " | > do_sound_norm:False\n",
      " | > do_amp_to_db_linear:True\n",
      " | > do_amp_to_db_mel:True\n",
      " | > do_rms_norm:True\n",
      " | > db_level:-27.0\n",
      " | > stats_path:None\n",
      " | > base:10\n",
      " | > hop_length:160\n",
      " | > win_length:400\n",
      " > initialization of language-embedding layers.\n"
     ]
    },
    {
     "name": "stderr",
     "output_type": "stream",
     "text": [
      "/var/folders/cm/lb23lq6s6f319w__2lgw1zfm0000gn/T/ipykernel_88555/3887792861.py:19: FutureWarning: You are using `torch.load` with `weights_only=False` (the current default value), which uses the default pickle module implicitly. It is possible to construct malicious pickle data which will execute arbitrary code during unpickling (See https://github.com/pytorch/pytorch/blob/main/SECURITY.md#untrusted-models for more details). In a future release, the default value for `weights_only` will be flipped to `True`. This limits the functions that could be executed during unpickling. Arbitrary objects will no longer be allowed to be loaded via this mode unless they are explicitly allowlisted by the user via `torch.serialization.add_safe_globals`. We recommend you start setting `weights_only=True` for any use case where you don't have full control of the loaded file. Please open an issue on GitHub for any issues related to this experimental feature.\n",
      "  cp = torch.load(MODEL_PATH, map_location=torch.device('cpu'))\n"
     ]
    }
   ],
   "source": [
    "# load the config\n",
    "C = load_config(CONFIG_PATH)\n",
    "\n",
    "# load the audio processor\n",
    "ap = AudioProcessor(**C.audio)\n",
    "\n",
    "# override config\n",
    "C[\"speakers_file\"] = None\n",
    "C[\"d_vector_file\"] = []\n",
    "C[\"language_ids_file\"] = TTS_LANGUAGES\n",
    "\n",
    "C[\"model_args\"][\"speakers_file\"] = None\n",
    "C[\"model_args\"][\"d_vector_file\"] = []\n",
    "C[\"model_args\"][\"language_ids_file\"] = TTS_LANGUAGES\n",
    "\n",
    "C.model_args['use_speaker_encoder_as_loss'] = False\n",
    "\n",
    "model = setup_model(C)\n",
    "cp = torch.load(MODEL_PATH, map_location=torch.device('cpu'))\n",
    "\n",
    "# remove speaker encoder\n",
    "model_weights = cp['model'].copy()\n",
    "for key in list(model_weights.keys()):\n",
    "  if \"speaker_encoder\" in key:\n",
    "    del model_weights[key]\n",
    "\n",
    "model.load_state_dict(model_weights)\n",
    "\n",
    "model.eval()\n",
    "\n",
    "if USE_CUDA:\n",
    "  model = model.cuda()\n",
    "\n",
    "# synthesize voice\n",
    "use_griffin_lim = False"
   ]
  },
  {
   "cell_type": "code",
   "execution_count": 4,
   "metadata": {},
   "outputs": [
    {
     "name": "stdout",
     "output_type": "stream",
     "text": [
      "Language ID: 0, Language Name: th\n"
     ]
    }
   ],
   "source": [
    "# Select language\n",
    "language_id = 0\n",
    "language_name_to_id = model.language_manager.name_to_id\n",
    "language_id_to_name = {v: k for k, v in language_name_to_id.items()}\n",
    "print(f\"Language ID: {language_id}, Language Name: {language_id_to_name[language_id]}\")"
   ]
  },
  {
   "cell_type": "code",
   "execution_count": 5,
   "metadata": {},
   "outputs": [],
   "source": [
    "model.length_scale = 1  # scaler for the duration predictor. The larger it is, the slower the speech.\n",
    "model.inference_noise_scale = 0.3 # defines the noise variance applied to the random z vector at inference.\n",
    "model.inference_noise_scale_dp = 0.3 # defines the noise variance applied to the duration predictor z vector at inference."
   ]
  },
  {
   "cell_type": "markdown",
   "metadata": {},
   "source": [
    "# Resampling audio file to 16kHz"
   ]
  },
  {
   "cell_type": "code",
   "execution_count": 7,
   "metadata": {},
   "outputs": [
    {
     "name": "stderr",
     "output_type": "stream",
     "text": [
      "Downloading: \"https://github.com/snakers4/silero-vad/zipball/master\" to /Users/titor/.cache/torch/hub/master.zip\n"
     ]
    }
   ],
   "source": [
    "model_and_utils = get_vad_model_and_utils(use_cuda=USE_CUDA, use_onnx=False)\n",
    "\n",
    "output_path, is_speech = remove_silence(\n",
    "  model_and_utils,\n",
    "  REFERENCE_PATH,\n",
    "  REFERENCE_PATH,\n",
    "  trim_just_beginning_and_end=True,\n",
    "  use_cuda=USE_CUDA\n",
    ")"
   ]
  },
  {
   "cell_type": "code",
   "execution_count": null,
   "metadata": {},
   "outputs": [],
   "source": [
    "!ffmpeg-normalize $REFERENCE_PATH -nt rms -t=-27 -o $REFERENCE_PATH -ar 16000 -f"
   ]
  },
  {
   "cell_type": "code",
   "execution_count": 8,
   "metadata": {},
   "outputs": [
    {
     "name": "stdout",
     "output_type": "stream",
     "text": [
      " > Model fully restored. \n",
      " > Setting up Audio Processor...\n",
      " | > sample_rate:16000\n",
      " | > resample:False\n",
      " | > num_mels:64\n",
      " | > log_func:np.log10\n",
      " | > min_level_db:-100\n",
      " | > frame_shift_ms:None\n",
      " | > frame_length_ms:None\n",
      " | > ref_level_db:20\n",
      " | > fft_size:512\n",
      " | > power:1.5\n",
      " | > preemphasis:0.97\n",
      " | > griffin_lim_iters:60\n",
      " | > signal_norm:False\n",
      " | > symmetric_norm:False\n",
      " | > mel_fmin:0\n",
      " | > mel_fmax:8000.0\n",
      " | > pitch_fmin:1.0\n",
      " | > pitch_fmax:640.0\n",
      " | > spec_gain:20.0\n",
      " | > stft_pad_mode:reflect\n",
      " | > max_norm:4.0\n",
      " | > clip_norm:False\n",
      " | > do_trim_silence:False\n",
      " | > trim_db:60\n",
      " | > do_sound_norm:False\n",
      " | > do_amp_to_db_linear:True\n",
      " | > do_amp_to_db_mel:True\n",
      " | > do_rms_norm:True\n",
      " | > db_level:-27.0\n",
      " | > stats_path:None\n",
      " | > base:10\n",
      " | > hop_length:160\n",
      " | > win_length:400\n"
     ]
    }
   ],
   "source": [
    "SE_speaker_manager = SpeakerManager(encoder_model_path=C[\"model_args\"][\"speaker_encoder_model_path\"], encoder_config_path=C[\"model_args\"][\"speaker_encoder_config_path\"], use_cuda=USE_CUDA)\n",
    "reference_emb = SE_speaker_manager.compute_embedding_from_clip(REFERENCE_PATH)"
   ]
  },
  {
   "cell_type": "markdown",
   "metadata": {},
   "source": [
    "# Inference"
   ]
  },
  {
   "cell_type": "code",
   "execution_count": 11,
   "metadata": {},
   "outputs": [
    {
     "name": "stdout",
     "output_type": "stream",
     "text": [
      " > text: และนี่คือธาตุทองซาว with sampling rate: 16000\n",
      "Audio Generated\n"
     ]
    },
    {
     "data": {
      "text/html": [
       "\n",
       "                <audio  controls=\"controls\" >\n",
       "                    <source src=\"data:audio/wav;base64,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\" type=\"audio/wav\" />\n",
       "                    Your browser does not support the audio element.\n",
       "                </audio>\n",
       "              "
      ],
      "text/plain": [
       "<IPython.lib.display.Audio object>"
      ]
     },
     "metadata": {},
     "output_type": "display_data"
    }
   ],
   "source": [
    "text = \"และนี่คือธาตุทองซาว\"\n",
    "print(f\" > text: {text} with sampling rate: {ap.sample_rate}\")\n",
    "\n",
    "wav, alignment, _, _ = synthesis(\n",
    "                    model = model,\n",
    "                    text = text,\n",
    "                    CONFIG = C,\n",
    "                    use_cuda = USE_CUDA,\n",
    "                    d_vector = reference_emb,\n",
    "                    style_wav = None,\n",
    "                    language_id = language_id,\n",
    "                    use_griffin_lim = True,\n",
    "                    do_trim_silence = False,\n",
    "                ).values()\n",
    "print(\"Audio Generated\")\n",
    "IPython.display.display(Audio(wav, rate=ap.sample_rate))"
   ]
  },
  {
   "cell_type": "markdown",
   "metadata": {},
   "source": [
    "# Save to Folder"
   ]
  },
  {
   "cell_type": "code",
   "execution_count": 10,
   "metadata": {},
   "outputs": [
    {
     "name": "stdout",
     "output_type": "stream",
     "text": [
      " > Saving output to output/Mingall-th/_พาราก้อน_Paragon.wav\n"
     ]
    }
   ],
   "source": [
    "file_name = text.replace(\" \", \"_\")\n",
    "file_name = model_name + '_' + file_name.translate(str.maketrans('', '', string.punctuation.replace('_', ''))) + '.wav'\n",
    "out_path = os.path.join(OUT_PATH, SPEAKER_FOLDER, file_name,)\n",
    "\n",
    "print(f\" > Saving output to {out_path}\")\n",
    "\n",
    "os.makedirs(f\"{OUT_PATH}/{SPEAKER_FOLDER}\", exist_ok=True)\n",
    "ap.save_wav(wav, out_path)"
   ]
  }
 ],
 "metadata": {
  "kernelspec": {
   "display_name": "khongkhuntts-EJcUAAU7-py3.11",
   "language": "python",
   "name": "python3"
  },
  "language_info": {
   "codemirror_mode": {
    "name": "ipython",
    "version": 3
   },
   "file_extension": ".py",
   "mimetype": "text/x-python",
   "name": "python",
   "nbconvert_exporter": "python",
   "pygments_lexer": "ipython3",
   "version": "3.11.9"
  }
 },
 "nbformat": 4,
 "nbformat_minor": 2
}
