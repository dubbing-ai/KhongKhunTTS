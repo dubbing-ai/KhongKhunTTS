{
 "cells": [
  {
   "cell_type": "markdown",
   "metadata": {},
   "source": [
    "# Import"
   ]
  },
  {
   "cell_type": "code",
   "execution_count": 1,
   "metadata": {},
   "outputs": [],
   "source": [
    "import string\n",
    "import IPython\n",
    "from IPython.display import Audio\n",
    "import torch\n",
    "import os\n",
    "\n",
    "from TTS.tts.utils.synthesis import synthesis\n",
    "try:\n",
    "  from TTS.utils.audio import AudioProcessor\n",
    "except:\n",
    "  from TTS.utils.audio import AudioProcessor\n",
    "from TTS.tts.models import setup_model\n",
    "from TTS.config import load_config\n",
    "from TTS.tts.models.vits import *\n",
    "from TTS.tts.utils.speakers import SpeakerManager\n",
    "\n",
    "\n",
    "from TTS.bin.resample import resample_files\n",
    "from TTS.utils.vad import get_vad_model_and_utils, remove_silence"
   ]
  },
  {
   "cell_type": "markdown",
   "metadata": {},
   "source": [
    "# Define Parameter and Constant"
   ]
  },
  {
   "cell_type": "code",
   "execution_count": 2,
   "metadata": {},
   "outputs": [],
   "source": [
    "OUT_PATH = 'output'\n",
    "BASE_MODEL_PATH = './model'\n",
    "\n",
    "# model vars \n",
    "MODEL_PATH = os.path.join(BASE_MODEL_PATH, 'best_model_160217.pth')\n",
    "CONFIG_PATH = os.path.join(BASE_MODEL_PATH, 'config.json')\n",
    "TTS_LANGUAGES = os.path.join(BASE_MODEL_PATH, 'language_ids.json')\n",
    "USE_CUDA = torch.cuda.is_available()\n",
    "REFERENCE_PATH = \"./reference_wav/Mingall-th.wav\"\n",
    "SPEAKER_FOLDER = REFERENCE_PATH.split(\"/\")[-1].split(\".\")[0]\n",
    "\n",
    "model_name = MODEL_PATH.split(\".\")[0]"
   ]
  },
  {
   "cell_type": "markdown",
   "metadata": {},
   "source": [
    "# Setup Model and Config"
   ]
  },
  {
   "cell_type": "code",
   "execution_count": 3,
   "metadata": {},
   "outputs": [
    {
     "name": "stdout",
     "output_type": "stream",
     "text": [
      " > Setting up Audio Processor...\n",
      " | > sample_rate:16000\n",
      " | > resample:False\n",
      " | > num_mels:80\n",
      " | > log_func:np.log10\n",
      " | > min_level_db:0\n",
      " | > frame_shift_ms:None\n",
      " | > frame_length_ms:None\n",
      " | > ref_level_db:None\n",
      " | > fft_size:1024\n",
      " | > power:None\n",
      " | > preemphasis:0.0\n",
      " | > griffin_lim_iters:None\n",
      " | > signal_norm:None\n",
      " | > symmetric_norm:None\n",
      " | > mel_fmin:0\n",
      " | > mel_fmax:None\n",
      " | > pitch_fmin:None\n",
      " | > pitch_fmax:None\n",
      " | > spec_gain:20.0\n",
      " | > stft_pad_mode:reflect\n",
      " | > max_norm:1.0\n",
      " | > clip_norm:True\n",
      " | > do_trim_silence:False\n",
      " | > trim_db:60\n",
      " | > do_sound_norm:False\n",
      " | > do_amp_to_db_linear:True\n",
      " | > do_amp_to_db_mel:True\n",
      " | > do_rms_norm:False\n",
      " | > db_level:None\n",
      " | > stats_path:None\n",
      " | > base:10\n",
      " | > hop_length:256\n",
      " | > win_length:1024\n",
      " > Using model: vits\n",
      " > Setting up Audio Processor...\n",
      " | > sample_rate:16000\n",
      " | > resample:False\n",
      " | > num_mels:80\n",
      " | > log_func:np.log10\n",
      " | > min_level_db:0\n",
      " | > frame_shift_ms:None\n",
      " | > frame_length_ms:None\n",
      " | > ref_level_db:None\n",
      " | > fft_size:1024\n",
      " | > power:None\n",
      " | > preemphasis:0.0\n",
      " | > griffin_lim_iters:None\n",
      " | > signal_norm:None\n",
      " | > symmetric_norm:None\n",
      " | > mel_fmin:0\n",
      " | > mel_fmax:None\n",
      " | > pitch_fmin:None\n",
      " | > pitch_fmax:None\n",
      " | > spec_gain:20.0\n",
      " | > stft_pad_mode:reflect\n",
      " | > max_norm:1.0\n",
      " | > clip_norm:True\n",
      " | > do_trim_silence:False\n",
      " | > trim_db:60\n",
      " | > do_sound_norm:False\n",
      " | > do_amp_to_db_linear:True\n",
      " | > do_amp_to_db_mel:True\n",
      " | > do_rms_norm:False\n",
      " | > db_level:None\n",
      " | > stats_path:None\n",
      " | > base:10\n",
      " | > hop_length:256\n",
      " | > win_length:1024\n"
     ]
    },
    {
     "name": "stderr",
     "output_type": "stream",
     "text": [
      "/Users/titor/Library/Caches/pypoetry/virtualenvs/khongkhuntts-EJcUAAU7-py3.11/lib/python3.11/site-packages/TTS/utils/io.py:51: FutureWarning: You are using `torch.load` with `weights_only=False` (the current default value), which uses the default pickle module implicitly. It is possible to construct malicious pickle data which will execute arbitrary code during unpickling (See https://github.com/pytorch/pytorch/blob/main/SECURITY.md#untrusted-models for more details). In a future release, the default value for `weights_only` will be flipped to `True`. This limits the functions that could be executed during unpickling. Arbitrary objects will no longer be allowed to be loaded via this mode unless they are explicitly allowlisted by the user via `torch.serialization.add_safe_globals`. We recommend you start setting `weights_only=True` for any use case where you don't have full control of the loaded file. Please open an issue on GitHub for any issues related to this experimental feature.\n",
      "  return torch.load(f, map_location=map_location, **kwargs)\n"
     ]
    },
    {
     "name": "stdout",
     "output_type": "stream",
     "text": [
      " > Model fully restored. \n",
      " > Setting up Audio Processor...\n",
      " | > sample_rate:16000\n",
      " | > resample:False\n",
      " | > num_mels:64\n",
      " | > log_func:np.log10\n",
      " | > min_level_db:-100\n",
      " | > frame_shift_ms:None\n",
      " | > frame_length_ms:None\n",
      " | > ref_level_db:20\n",
      " | > fft_size:512\n",
      " | > power:1.5\n",
      " | > preemphasis:0.97\n",
      " | > griffin_lim_iters:60\n",
      " | > signal_norm:False\n",
      " | > symmetric_norm:False\n",
      " | > mel_fmin:0\n",
      " | > mel_fmax:8000.0\n",
      " | > pitch_fmin:1.0\n",
      " | > pitch_fmax:640.0\n",
      " | > spec_gain:20.0\n",
      " | > stft_pad_mode:reflect\n",
      " | > max_norm:4.0\n",
      " | > clip_norm:False\n",
      " | > do_trim_silence:False\n",
      " | > trim_db:60\n",
      " | > do_sound_norm:False\n",
      " | > do_amp_to_db_linear:True\n",
      " | > do_amp_to_db_mel:True\n",
      " | > do_rms_norm:True\n",
      " | > db_level:-27.0\n",
      " | > stats_path:None\n",
      " | > base:10\n",
      " | > hop_length:160\n",
      " | > win_length:400\n",
      " > initialization of language-embedding layers.\n"
     ]
    },
    {
     "name": "stderr",
     "output_type": "stream",
     "text": [
      "/var/folders/cm/lb23lq6s6f319w__2lgw1zfm0000gn/T/ipykernel_91369/3887792861.py:19: FutureWarning: You are using `torch.load` with `weights_only=False` (the current default value), which uses the default pickle module implicitly. It is possible to construct malicious pickle data which will execute arbitrary code during unpickling (See https://github.com/pytorch/pytorch/blob/main/SECURITY.md#untrusted-models for more details). In a future release, the default value for `weights_only` will be flipped to `True`. This limits the functions that could be executed during unpickling. Arbitrary objects will no longer be allowed to be loaded via this mode unless they are explicitly allowlisted by the user via `torch.serialization.add_safe_globals`. We recommend you start setting `weights_only=True` for any use case where you don't have full control of the loaded file. Please open an issue on GitHub for any issues related to this experimental feature.\n",
      "  cp = torch.load(MODEL_PATH, map_location=torch.device('cpu'))\n"
     ]
    }
   ],
   "source": [
    "# load the config\n",
    "C = load_config(CONFIG_PATH)\n",
    "\n",
    "# load the audio processor\n",
    "ap = AudioProcessor(**C.audio)\n",
    "\n",
    "# override config\n",
    "C[\"speakers_file\"] = None\n",
    "C[\"d_vector_file\"] = []\n",
    "C[\"language_ids_file\"] = TTS_LANGUAGES\n",
    "\n",
    "C[\"model_args\"][\"speakers_file\"] = None\n",
    "C[\"model_args\"][\"d_vector_file\"] = []\n",
    "C[\"model_args\"][\"language_ids_file\"] = TTS_LANGUAGES\n",
    "\n",
    "C.model_args['use_speaker_encoder_as_loss'] = False\n",
    "\n",
    "model = setup_model(C)\n",
    "cp = torch.load(MODEL_PATH, map_location=torch.device('cpu'))\n",
    "\n",
    "# remove speaker encoder\n",
    "model_weights = cp['model'].copy()\n",
    "for key in list(model_weights.keys()):\n",
    "  if \"speaker_encoder\" in key:\n",
    "    del model_weights[key]\n",
    "\n",
    "model.load_state_dict(model_weights)\n",
    "\n",
    "model.eval()\n",
    "\n",
    "if USE_CUDA:\n",
    "  model = model.cuda()\n",
    "\n",
    "# synthesize voice\n",
    "use_griffin_lim = False"
   ]
  },
  {
   "cell_type": "code",
   "execution_count": 4,
   "metadata": {},
   "outputs": [
    {
     "name": "stdout",
     "output_type": "stream",
     "text": [
      "Language ID: 0, Language Name: th\n"
     ]
    }
   ],
   "source": [
    "# Select language\n",
    "language_id = 0\n",
    "language_name_to_id = model.language_manager.name_to_id\n",
    "language_id_to_name = {v: k for k, v in language_name_to_id.items()}\n",
    "print(f\"Language ID: {language_id}, Language Name: {language_id_to_name[language_id]}\")"
   ]
  },
  {
   "cell_type": "code",
   "execution_count": 5,
   "metadata": {},
   "outputs": [],
   "source": [
    "model.length_scale = 1  # scaler for the duration predictor. The larger it is, the slower the speech.\n",
    "model.inference_noise_scale = 0.3 # defines the noise variance applied to the random z vector at inference.\n",
    "model.inference_noise_scale_dp = 0.3 # defines the noise variance applied to the duration predictor z vector at inference."
   ]
  },
  {
   "cell_type": "markdown",
   "metadata": {},
   "source": [
    "# Resampling audio file to 16kHz"
   ]
  },
  {
   "cell_type": "code",
   "execution_count": 6,
   "metadata": {},
   "outputs": [
    {
     "name": "stderr",
     "output_type": "stream",
     "text": [
      "Downloading: \"https://github.com/snakers4/silero-vad/zipball/master\" to /Users/titor/.cache/torch/hub/master.zip\n"
     ]
    }
   ],
   "source": [
    "model_and_utils = get_vad_model_and_utils(use_cuda=USE_CUDA, use_onnx=False)\n",
    "\n",
    "output_path, is_speech = remove_silence(\n",
    "  model_and_utils,\n",
    "  REFERENCE_PATH,\n",
    "  REFERENCE_PATH,\n",
    "  trim_just_beginning_and_end=True,\n",
    "  use_cuda=USE_CUDA\n",
    ")"
   ]
  },
  {
   "cell_type": "code",
   "execution_count": 7,
   "metadata": {},
   "outputs": [],
   "source": [
    "!ffmpeg-normalize $REFERENCE_PATH -nt rms -t=-27 -o $REFERENCE_PATH -ar 16000 -f"
   ]
  },
  {
   "cell_type": "code",
   "execution_count": 8,
   "metadata": {},
   "outputs": [
    {
     "name": "stdout",
     "output_type": "stream",
     "text": [
      " > Model fully restored. \n",
      " > Setting up Audio Processor...\n",
      " | > sample_rate:16000\n",
      " | > resample:False\n",
      " | > num_mels:64\n",
      " | > log_func:np.log10\n",
      " | > min_level_db:-100\n",
      " | > frame_shift_ms:None\n",
      " | > frame_length_ms:None\n",
      " | > ref_level_db:20\n",
      " | > fft_size:512\n",
      " | > power:1.5\n",
      " | > preemphasis:0.97\n",
      " | > griffin_lim_iters:60\n",
      " | > signal_norm:False\n",
      " | > symmetric_norm:False\n",
      " | > mel_fmin:0\n",
      " | > mel_fmax:8000.0\n",
      " | > pitch_fmin:1.0\n",
      " | > pitch_fmax:640.0\n",
      " | > spec_gain:20.0\n",
      " | > stft_pad_mode:reflect\n",
      " | > max_norm:4.0\n",
      " | > clip_norm:False\n",
      " | > do_trim_silence:False\n",
      " | > trim_db:60\n",
      " | > do_sound_norm:False\n",
      " | > do_amp_to_db_linear:True\n",
      " | > do_amp_to_db_mel:True\n",
      " | > do_rms_norm:True\n",
      " | > db_level:-27.0\n",
      " | > stats_path:None\n",
      " | > base:10\n",
      " | > hop_length:160\n",
      " | > win_length:400\n"
     ]
    }
   ],
   "source": [
    "SE_speaker_manager = SpeakerManager(encoder_model_path=C[\"model_args\"][\"speaker_encoder_model_path\"], encoder_config_path=C[\"model_args\"][\"speaker_encoder_config_path\"], use_cuda=USE_CUDA)\n",
    "reference_emb = SE_speaker_manager.compute_embedding_from_clip(REFERENCE_PATH)"
   ]
  },
  {
   "cell_type": "markdown",
   "metadata": {},
   "source": [
    "# Inference"
   ]
  },
  {
   "cell_type": "code",
   "execution_count": 9,
   "metadata": {},
   "outputs": [
    {
     "name": "stdout",
     "output_type": "stream",
     "text": [
      " > text: และนี่คือธาตุทองซาว with sampling rate: 16000\n",
      "Audio Generated\n"
     ]
    },
    {
     "data": {
      "text/html": [
       "\n",
       "                <audio  controls=\"controls\" >\n",
       "                    <source src=\"data:audio/wav;base64,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\" type=\"audio/wav\" />\n",
       "                    Your browser does not support the audio element.\n",
       "                </audio>\n",
       "              "
      ],
      "text/plain": [
       "<IPython.lib.display.Audio object>"
      ]
     },
     "metadata": {},
     "output_type": "display_data"
    }
   ],
   "source": [
    "text = \"และนี่คือธาตุทองซาว\"\n",
    "print(f\" > text: {text} with sampling rate: {ap.sample_rate}\")\n",
    "\n",
    "wav, alignment, _, _ = synthesis(\n",
    "                    model = model,\n",
    "                    text = text,\n",
    "                    CONFIG = C,\n",
    "                    use_cuda = USE_CUDA,\n",
    "                    d_vector = reference_emb,\n",
    "                    style_wav = None,\n",
    "                    language_id = language_id,\n",
    "                    use_griffin_lim = True,\n",
    "                    do_trim_silence = False,\n",
    "                ).values()\n",
    "print(\"Audio Generated\")\n",
    "IPython.display.display(Audio(wav, rate=ap.sample_rate))"
   ]
  },
  {
   "cell_type": "markdown",
   "metadata": {},
   "source": [
    "# Save to Folder"
   ]
  },
  {
   "cell_type": "code",
   "execution_count": 10,
   "metadata": {},
   "outputs": [
    {
     "name": "stdout",
     "output_type": "stream",
     "text": [
      " > Saving output to output/Mingall-th/_และนี่คือธาตุทองซาว.wav\n"
     ]
    }
   ],
   "source": [
    "file_name = text.replace(\" \", \"_\")\n",
    "file_name = model_name + '_' + file_name.translate(str.maketrans('', '', string.punctuation.replace('_', ''))) + '.wav'\n",
    "out_path = os.path.join(OUT_PATH, SPEAKER_FOLDER, file_name,)\n",
    "\n",
    "print(f\" > Saving output to {out_path}\")\n",
    "\n",
    "os.makedirs(f\"{OUT_PATH}/{SPEAKER_FOLDER}\", exist_ok=True)\n",
    "ap.save_wav(wav, out_path)"
   ]
  }
 ],
 "metadata": {
  "kernelspec": {
   "display_name": "khongkhuntts-EJcUAAU7-py3.11",
   "language": "python",
   "name": "python3"
  },
  "language_info": {
   "codemirror_mode": {
    "name": "ipython",
    "version": 3
   },
   "file_extension": ".py",
   "mimetype": "text/x-python",
   "name": "python",
   "nbconvert_exporter": "python",
   "pygments_lexer": "ipython3",
   "version": "3.11.9"
  }
 },
 "nbformat": 4,
 "nbformat_minor": 2
}
