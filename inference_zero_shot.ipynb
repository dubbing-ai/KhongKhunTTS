{
 "cells": [
  {
   "cell_type": "markdown",
   "metadata": {},
   "source": [
    "# Import"
   ]
  },
  {
   "cell_type": "code",
   "execution_count": 1,
   "metadata": {},
   "outputs": [],
   "source": [
    "import string\n",
    "import IPython\n",
    "from IPython.display import Audio\n",
    "import torch\n",
    "import os\n",
    "\n",
    "from TTS.tts.utils.synthesis import synthesis\n",
    "try:\n",
    "  from TTS.utils.audio import AudioProcessor\n",
    "except:\n",
    "  from TTS.utils.audio import AudioProcessor\n",
    "from TTS.tts.models import setup_model\n",
    "from TTS.config import load_config\n",
    "from TTS.tts.models.vits import *\n",
    "from TTS.tts.utils.speakers import SpeakerManager\n",
    "\n",
    "\n",
    "from TTS.bin.resample import resample_files\n",
    "from TTS.utils.vad import get_vad_model_and_utils, remove_silence\n",
    "\n",
    "from pydub import AudioSegment"
   ]
  },
  {
   "cell_type": "markdown",
   "metadata": {},
   "source": [
    "# Define Parameter and Constant"
   ]
  },
  {
   "cell_type": "code",
   "execution_count": 15,
   "metadata": {},
   "outputs": [],
   "source": [
    "OUT_PATH = 'output'\n",
    "BASE_MODEL_PATH = './model'\n",
    "REFERENCE_FILENAME = 'Jinny-04-en.m4a'\n",
    "\n",
    "# model vars \n",
    "MODEL_PATH = os.path.join(BASE_MODEL_PATH, 'best_model_160217.pth')\n",
    "CONFIG_PATH = os.path.join(BASE_MODEL_PATH, 'config.json')\n",
    "TTS_LANGUAGES = os.path.join(BASE_MODEL_PATH, 'language_ids.json')\n",
    "USE_CUDA = torch.cuda.is_available()\n",
    "REFERENCE_PATH = os.path.join(\"./reference_voice\", REFERENCE_FILENAME.strip().strip('./').strip('/'))\n",
    "REFERENCE_WAV_PATH = os.path.join(\"./reference_voice\", \"wav\", REFERENCE_FILENAME.strip().strip('./').strip('/').split(\".\")[0] + \".wav\")\n",
    "SPEAKER_FOLDER = REFERENCE_PATH.split(\"/\")[-1].split(\".\")[0]\n",
    "\n",
    "model_name = MODEL_PATH.rstrip('.pth').split('/')[-1]"
   ]
  },
  {
   "cell_type": "markdown",
   "metadata": {},
   "source": [
    "# Setup Model and Config"
   ]
  },
  {
   "cell_type": "code",
   "execution_count": 3,
   "metadata": {},
   "outputs": [
    {
     "name": "stdout",
     "output_type": "stream",
     "text": [
      " > Setting up Audio Processor...\n",
      " | > sample_rate:16000\n",
      " | > resample:False\n",
      " | > num_mels:80\n",
      " | > log_func:np.log10\n",
      " | > min_level_db:0\n",
      " | > frame_shift_ms:None\n",
      " | > frame_length_ms:None\n",
      " | > ref_level_db:None\n",
      " | > fft_size:1024\n",
      " | > power:None\n",
      " | > preemphasis:0.0\n",
      " | > griffin_lim_iters:None\n",
      " | > signal_norm:None\n",
      " | > symmetric_norm:None\n",
      " | > mel_fmin:0\n",
      " | > mel_fmax:None\n",
      " | > pitch_fmin:None\n",
      " | > pitch_fmax:None\n",
      " | > spec_gain:20.0\n",
      " | > stft_pad_mode:reflect\n",
      " | > max_norm:1.0\n",
      " | > clip_norm:True\n",
      " | > do_trim_silence:False\n",
      " | > trim_db:60\n",
      " | > do_sound_norm:False\n",
      " | > do_amp_to_db_linear:True\n",
      " | > do_amp_to_db_mel:True\n",
      " | > do_rms_norm:False\n",
      " | > db_level:None\n",
      " | > stats_path:None\n",
      " | > base:10\n",
      " | > hop_length:256\n",
      " | > win_length:1024\n",
      " > Using model: vits\n",
      " > Setting up Audio Processor...\n",
      " | > sample_rate:16000\n",
      " | > resample:False\n",
      " | > num_mels:80\n",
      " | > log_func:np.log10\n",
      " | > min_level_db:0\n",
      " | > frame_shift_ms:None\n",
      " | > frame_length_ms:None\n",
      " | > ref_level_db:None\n",
      " | > fft_size:1024\n",
      " | > power:None\n",
      " | > preemphasis:0.0\n",
      " | > griffin_lim_iters:None\n",
      " | > signal_norm:None\n",
      " | > symmetric_norm:None\n",
      " | > mel_fmin:0\n",
      " | > mel_fmax:None\n",
      " | > pitch_fmin:None\n",
      " | > pitch_fmax:None\n",
      " | > spec_gain:20.0\n",
      " | > stft_pad_mode:reflect\n",
      " | > max_norm:1.0\n",
      " | > clip_norm:True\n",
      " | > do_trim_silence:False\n",
      " | > trim_db:60\n",
      " | > do_sound_norm:False\n",
      " | > do_amp_to_db_linear:True\n",
      " | > do_amp_to_db_mel:True\n",
      " | > do_rms_norm:False\n",
      " | > db_level:None\n",
      " | > stats_path:None\n",
      " | > base:10\n",
      " | > hop_length:256\n",
      " | > win_length:1024\n"
     ]
    },
    {
     "name": "stderr",
     "output_type": "stream",
     "text": [
      "/Users/jackkahod/Desktop/File/Study/4-1/Capstone/TTS/TTS/utils/io.py:51: FutureWarning: You are using `torch.load` with `weights_only=False` (the current default value), which uses the default pickle module implicitly. It is possible to construct malicious pickle data which will execute arbitrary code during unpickling (See https://github.com/pytorch/pytorch/blob/main/SECURITY.md#untrusted-models for more details). In a future release, the default value for `weights_only` will be flipped to `True`. This limits the functions that could be executed during unpickling. Arbitrary objects will no longer be allowed to be loaded via this mode unless they are explicitly allowlisted by the user via `torch.serialization.add_safe_globals`. We recommend you start setting `weights_only=True` for any use case where you don't have full control of the loaded file. Please open an issue on GitHub for any issues related to this experimental feature.\n",
      "  return torch.load(f, map_location=map_location, **kwargs)\n"
     ]
    },
    {
     "name": "stdout",
     "output_type": "stream",
     "text": [
      " > Model fully restored. \n",
      " > Setting up Audio Processor...\n",
      " | > sample_rate:16000\n",
      " | > resample:False\n",
      " | > num_mels:64\n",
      " | > log_func:np.log10\n",
      " | > min_level_db:-100\n",
      " | > frame_shift_ms:None\n",
      " | > frame_length_ms:None\n",
      " | > ref_level_db:20\n",
      " | > fft_size:512\n",
      " | > power:1.5\n",
      " | > preemphasis:0.97\n",
      " | > griffin_lim_iters:60\n",
      " | > signal_norm:False\n",
      " | > symmetric_norm:False\n",
      " | > mel_fmin:0\n",
      " | > mel_fmax:8000.0\n",
      " | > pitch_fmin:1.0\n",
      " | > pitch_fmax:640.0\n",
      " | > spec_gain:20.0\n",
      " | > stft_pad_mode:reflect\n",
      " | > max_norm:4.0\n",
      " | > clip_norm:False\n",
      " | > do_trim_silence:False\n",
      " | > trim_db:60\n",
      " | > do_sound_norm:False\n",
      " | > do_amp_to_db_linear:True\n",
      " | > do_amp_to_db_mel:True\n",
      " | > do_rms_norm:True\n",
      " | > db_level:-27.0\n",
      " | > stats_path:None\n",
      " | > base:10\n",
      " | > hop_length:160\n",
      " | > win_length:400\n",
      " > initialization of language-embedding layers.\n"
     ]
    },
    {
     "name": "stderr",
     "output_type": "stream",
     "text": [
      "/var/folders/m1/7w22yfgd6sb1ncmg34nvzblc0000gn/T/ipykernel_58744/3887792861.py:19: FutureWarning: You are using `torch.load` with `weights_only=False` (the current default value), which uses the default pickle module implicitly. It is possible to construct malicious pickle data which will execute arbitrary code during unpickling (See https://github.com/pytorch/pytorch/blob/main/SECURITY.md#untrusted-models for more details). In a future release, the default value for `weights_only` will be flipped to `True`. This limits the functions that could be executed during unpickling. Arbitrary objects will no longer be allowed to be loaded via this mode unless they are explicitly allowlisted by the user via `torch.serialization.add_safe_globals`. We recommend you start setting `weights_only=True` for any use case where you don't have full control of the loaded file. Please open an issue on GitHub for any issues related to this experimental feature.\n",
      "  cp = torch.load(MODEL_PATH, map_location=torch.device('cpu'))\n"
     ]
    }
   ],
   "source": [
    "# load the config\n",
    "C = load_config(CONFIG_PATH)\n",
    "\n",
    "# load the audio processor\n",
    "ap = AudioProcessor(**C.audio)\n",
    "\n",
    "# override config\n",
    "C[\"speakers_file\"] = None\n",
    "C[\"d_vector_file\"] = []\n",
    "C[\"language_ids_file\"] = TTS_LANGUAGES\n",
    "\n",
    "C[\"model_args\"][\"speakers_file\"] = None\n",
    "C[\"model_args\"][\"d_vector_file\"] = []\n",
    "C[\"model_args\"][\"language_ids_file\"] = TTS_LANGUAGES\n",
    "\n",
    "C.model_args['use_speaker_encoder_as_loss'] = False\n",
    "\n",
    "model = setup_model(C)\n",
    "cp = torch.load(MODEL_PATH, map_location=torch.device('cpu'))\n",
    "\n",
    "# remove speaker encoder\n",
    "model_weights = cp['model'].copy()\n",
    "for key in list(model_weights.keys()):\n",
    "  if \"speaker_encoder\" in key:\n",
    "    del model_weights[key]\n",
    "\n",
    "model.load_state_dict(model_weights)\n",
    "\n",
    "model.eval()\n",
    "\n",
    "if USE_CUDA:\n",
    "  model = model.cuda()\n",
    "\n",
    "# synthesize voice\n",
    "use_griffin_lim = False"
   ]
  },
  {
   "cell_type": "markdown",
   "metadata": {},
   "source": [
    "# Setup Language"
   ]
  },
  {
   "cell_type": "code",
   "execution_count": 4,
   "metadata": {},
   "outputs": [
    {
     "name": "stdout",
     "output_type": "stream",
     "text": [
      "Language ID: 0, Language Name: th\n"
     ]
    }
   ],
   "source": [
    "# Select language\n",
    "language_id = 0\n",
    "language_name_to_id = model.language_manager.name_to_id\n",
    "language_id_to_name = {v: k for k, v in language_name_to_id.items()}\n",
    "print(f\"Language ID: {language_id}, Language Name: {language_id_to_name[language_id]}\")"
   ]
  },
  {
   "cell_type": "markdown",
   "metadata": {},
   "source": [
    "# Setup duration predictor"
   ]
  },
  {
   "cell_type": "code",
   "execution_count": 5,
   "metadata": {},
   "outputs": [],
   "source": [
    "model.length_scale = 1.13  # scaler for the duration predictor. The larger it is, the slower the speech.\n",
    "model.inference_noise_scale = 0.2 # defines the noise variance applied to the random z vector at inference.\n",
    "model.inference_noise_scale_dp = 0.2 # defines the noise variance applied to the duration predictor z vector at inference."
   ]
  },
  {
   "cell_type": "markdown",
   "metadata": {},
   "source": [
    "# Process reference audio file"
   ]
  },
  {
   "cell_type": "code",
   "execution_count": null,
   "metadata": {},
   "outputs": [],
   "source": [
    "# Check if refernec voice is in wav format\n",
    "current_ref_extension = REFERENCE_PATH.split(\".\")[-1].lower()\n",
    "\n",
    "# Convert to wav if not or never converted\n",
    "if current_ref_extension != \"wav\" and not os.path.exists(REFERENCE_WAV_PATH):\n",
    "    audio: AudioSegment = AudioSegment.from_file(REFERENCE_PATH, format=current_ref_extension)\n",
    "    audio.export(REFERENCE_WAV_PATH, format=\"wav\")\n",
    "\n",
    "REFERENCE_PATH = REFERENCE_WAV_PATH"
   ]
  },
  {
   "cell_type": "code",
   "execution_count": 7,
   "metadata": {},
   "outputs": [
    {
     "name": "stdout",
     "output_type": "stream",
     "text": [
      "Resampling the audio files...\n",
      "Found 3 files...\n"
     ]
    },
    {
     "name": "stderr",
     "output_type": "stream",
     "text": [
      "100%|██████████| 3/3 [00:02<00:00,  1.30it/s]"
     ]
    },
    {
     "name": "stdout",
     "output_type": "stream",
     "text": [
      "Done !\n"
     ]
    },
    {
     "name": "stderr",
     "output_type": "stream",
     "text": [
      "\n"
     ]
    }
   ],
   "source": [
    "# reamples the audio file to match the sample rate of the model\n",
    "resample_files(\"./reference_voice/\", C.audio['sample_rate'], file_ext=\"wav\")"
   ]
  },
  {
   "cell_type": "code",
   "execution_count": 8,
   "metadata": {},
   "outputs": [
    {
     "name": "stderr",
     "output_type": "stream",
     "text": [
      "Downloading: \"https://github.com/snakers4/silero-vad/zipball/master\" to /Users/jackkahod/.cache/torch/hub/master.zip\n"
     ]
    }
   ],
   "source": [
    "# trim silence at the beginning and end of the audio\n",
    "model_and_utils = get_vad_model_and_utils(use_cuda=USE_CUDA, use_onnx=False)\n",
    "\n",
    "output_path, is_speech = remove_silence(\n",
    "  model_and_utils,\n",
    "  REFERENCE_PATH,\n",
    "  REFERENCE_PATH,\n",
    "  trim_just_beginning_and_end=True,\n",
    "  use_cuda=USE_CUDA\n",
    ")"
   ]
  },
  {
   "cell_type": "code",
   "execution_count": 9,
   "metadata": {},
   "outputs": [],
   "source": [
    "# normalize the reference audio with rms to -27dB\n",
    "!ffmpeg-normalize $REFERENCE_PATH -nt rms -t=-27 -o $REFERENCE_PATH -ar 16000 -f"
   ]
  },
  {
   "cell_type": "code",
   "execution_count": 10,
   "metadata": {},
   "outputs": [
    {
     "name": "stdout",
     "output_type": "stream",
     "text": [
      " > Model fully restored. \n",
      " > Setting up Audio Processor...\n",
      " | > sample_rate:16000\n",
      " | > resample:False\n",
      " | > num_mels:64\n",
      " | > log_func:np.log10\n",
      " | > min_level_db:-100\n",
      " | > frame_shift_ms:None\n",
      " | > frame_length_ms:None\n",
      " | > ref_level_db:20\n",
      " | > fft_size:512\n",
      " | > power:1.5\n",
      " | > preemphasis:0.97\n",
      " | > griffin_lim_iters:60\n",
      " | > signal_norm:False\n",
      " | > symmetric_norm:False\n",
      " | > mel_fmin:0\n",
      " | > mel_fmax:8000.0\n",
      " | > pitch_fmin:1.0\n",
      " | > pitch_fmax:640.0\n",
      " | > spec_gain:20.0\n",
      " | > stft_pad_mode:reflect\n",
      " | > max_norm:4.0\n",
      " | > clip_norm:False\n",
      " | > do_trim_silence:False\n",
      " | > trim_db:60\n",
      " | > do_sound_norm:False\n",
      " | > do_amp_to_db_linear:True\n",
      " | > do_amp_to_db_mel:True\n",
      " | > do_rms_norm:True\n",
      " | > db_level:-27.0\n",
      " | > stats_path:None\n",
      " | > base:10\n",
      " | > hop_length:160\n",
      " | > win_length:400\n"
     ]
    }
   ],
   "source": [
    "SE_speaker_manager = SpeakerManager(encoder_model_path=C[\"model_args\"][\"speaker_encoder_model_path\"], encoder_config_path=C[\"model_args\"][\"speaker_encoder_config_path\"], use_cuda=USE_CUDA)\n",
    "reference_emb = SE_speaker_manager.compute_embedding_from_clip(REFERENCE_PATH)"
   ]
  },
  {
   "cell_type": "markdown",
   "metadata": {},
   "source": [
    "# Inference"
   ]
  },
  {
   "cell_type": "code",
   "execution_count": 11,
   "metadata": {},
   "outputs": [
    {
     "name": "stdout",
     "output_type": "stream",
     "text": [
      " > text: อยากกินหมึกมันไก่ with sampling rate: 16000\n",
      "Audio Generated\n"
     ]
    },
    {
     "data": {
      "text/html": [
       "\n",
       "                <audio  controls=\"controls\" >\n",
       "                    <source src=\"data:audio/wav;base64,UklGRiSaAABXQVZFZm10IBAAAAABAAEAgD4AAAB9AAACABAAZGF0YQCaAACGAKkAjQAqAFYARgAPAGgASwDg/93//P8ZAMz/yv9UAIoAJgDX/+f/BwCe/5P/KABrABcA9f8+ADIAMQA7AF8AcwB7ADYAEQCuAIwA/v8+AEEAJwBrAHAASABHAGYAWACIAJYACwDm/w0ATwA7AAgAfgBuACgAGABjALIAbAB+AJIAQQBRAJAAeADaAJMAOACXAFMALwA6ABwA/P8FAFEAYQBGADsANgDj/6H/1f8vADwAtP+U/+P/IwBfACkA/f80ABEA7v8zAF4AKwDs//3/3f+a/63/y//u//H/AAA4ACsA3//d/xsANAAzABYADgBPAFoAUQBkAFMAZwCBALUAsgBvACYAFgBPAFYARQA5AAkA/v9aAGUA+f+H/+X/cACLAG0AWgB2AGUAKgDe/zAApgBHANP/SgDBAIAAIABRAIEANQDQ/+n/UAAyAOP//f+CAKwAXABWAHkAowDRAIYAWwBtAFYASgBJABoAq/+n/w8ARgBQABIA+/8GAO3/+P83AGUArgC0ADkAFAAtAHoAUwD8/zcAWAAwAC0APwAZAEkAcQB+AIUAVQALAPL/ngDnAHUASgAsAGUAdwHTAdYA7P+h/6b/CwAzAOD/iv+R/9//2v/J/6n/vP/u/+T/6v/j/7L/hP+m/wsAGACl/yb/Bf8+/5//rf+D/33/cv9v/8v/7P+2/7j/BgATAPr/DQDF/4//pf/s//f/zP/I/wAAFwAAAPz/6P///xUAEQALAAkA9/8CAFUAlAB8ADEABAAjAGoAZwD9/zUAUADj/wkAOAACAPP/CADW/8H/lP9Q/3T/uv+2/7z/2v/4/6//n//u/yQASwDw//n/VgAdAAIA///u/yoAIQDx/wYA+//r/xUADgDw/83/9f8IACoATQDs/+z/AgDu/8r/bf9A/2v/tv/p/9z/1f8oAGUAOgD6/x4AMwDN/6X/xv/B/4f/hP+c/1f/jf+1/93/PwBdAD4A+//m//v/UAA5AO//+P/3/xUAZABqAFQAVwA0AAEANAB9AGoAcwCHAKoAogC4ABUBNwEEAUUBkwFyAUQBYQGSAYUBggGYAW8B2QBKANL/LwBPAMv/dv+e/6r/q//B/4r/0//t//X/qQC4AC//C/53/9YAmgB+ADIAAwCJ/wcASQG9AYYBqACcAMwAeQDy/w8A9wAkAaEAIABrAGQA9//Z/wwATgCH/0H/Uv8q/0D/p/+w/9z+j/43/0v/8f5I/zP/E/9l/6z/ZQDeADcBkQGCAU4CBgMMAyQDOAN9A5UDWQPbAr4C4gLCAi0CoQE+AeYAGgEhAdwAFQCL/37/rv+O/wj/c/6N/Uz9+/1s/v/8Nfvh+vz68fp3+gz6Cvqa+Sr5WPn2+R/6Wvr3+pz7H/ya/Ov89Pyt/Uz+dv5j/tL+mP+w/2EAJgEoAUQBTwFaAbgAgQAJASQBBAENAUQB9gBNAYYBDQFFAXQBcAGFAUcBEgFfAcgBpwGsAXABtAB6ACIAIgAxABsA+v+R/8n/t/9n/0//3v4R/0z/cP9VAP7/tf+TAOUA1wDRAJAA0ACeAZkBLAFyAfoBnQFyAVACNQMGA5oCqAK3AkICHAJ8ArQBPwHEAaoBswCRAGsBBwEQAFT/a/5L/sP91fxI/Jb7APt7+h768Pn/+Xv5K/m6+Zb6iPqT+hj7dPvX/Ov92f7U/1MA9QBhAlIEowXBBpMHjgd0CEoKswq/CvcKPwpMCdcJUwoGCTAILAd/BhMGZATAAgICiAHi/3r+vP0y/c77Ufoa+hX57/YY9U317PXD9bH0d/LH8frysfMH9Hv0KfNo8lz0WPUh9QX2Y/dn+Ir59/u//eX+UADAAPcCIAadB6cHNQjUChoNig1ODj0Q1BAREBYQexDtD5QP6w/bDoAMmAvkC+MK2QjbBuoFfAVFBBoDKQFW/i/9Fv3N/PD7evos+ZX3fPej97/27PYV94T2Y/Wp9Tv3yPdh+Eb5gfhF99v4pvvF+876lPti/HH8Tvy1/W7/fv9IAJEBygLaAz0FuwYbB6QGQQbGB5UKjAssCi0IYAdICeAKNQlSCPwHygUYBVcFbgSxAk4BEgAV/2b+AP1L+8r5EPn69wz3rvYs9uD0yvLb8pT0/fOW8ZPxbvNb85vxbvK99sr5dvif9kD4WPsT/ln/EP/9/7gBQgPfBNcGJwjKCCkKEwwDDgQPghCUEeoQzxDNEjUV9hO1EacSyBM+Eq4Q0hFhEqgPyAqVCDIKNwl6BYQCfwCT/mj8//mQ+H33aPW08m/xCPLd8LLt8+zn8Abx1ekY5wPtIvGj7Rjpq+jb61HwZPKS8hLygvDT8fX3CfxW/Mv8MPzK/f4C6wYkCbUKDQsfDS0TEBezFfgTwRbRG8EbZRgOGRUcuBqoFt8WjBeZFLIQrQ1cDLsJWgbABBEClPx++n78svfc7yHws/N58dHq3egm7QHvw+r76lzxDvCL6g/tpfO49GDyX/Kt8kD0Sfhp+n/5z/dx+Gv8Uf81/d/7WP+cAg0DOQK6AkEE0AbPCXkN7RCwD90N9g8kFCgYmRp/GIwUZRVVGEsYbxZCFZsSbQ+wDTQM6QoEB5sBE//V/an6pvgM+Rn1Hu/C7s7wsfDb7rzrzel27GDw9+2F6TLrxe/l8Hvt2OsI8MzyHvAR8fT1PfZa8+7yv/Wi+M34+Pkm/O/5p/jb/EQD7QT4Aa8DqgknDzUTOhOdEBkTxBkOHmEgtx7iGTMb9CE6I84d1BoVG/oYLhS3D+gPMhHJCl8AkvyR/wj/mPrG9o3xR++h8uny4+us6C7tq+6S6ffnAu/s8VTqBOaW7VP0uO8u7HXy4/Ti7azuwPmu+FXsl+1I/Df+JPNe9Lb+KwCz/TgBaAZICX0MrRGGFn4WXRX2Gn8h6yEkIo4j7CLFIJ8fWiEWIhsd0RTjElMU5A8pC6IJBAM4+YD4Hvxv+Q7xl+tT7yTz6Ooy4WLnM/F37aXjp+Iy7X71we+O5eHm0/A39wj23e4H6r3vz/jg+OHuZuco7+L8VfuH7gfvNPsa/xz8LP9tBCoEcAckELAUJBXyFnEY7RgsHrMnryrYIAEXoB6PK80mABxvG2QZ/hCjEHUVtxAHBKz7f/0DAF37d/TP8HrwDfAU7bbph+mB6wrqHulu6vDngunf78btZec86kTwvu606q7tk/Sn8xLrq+c+7wL1i/CR6o/pLOyh8A/1AfXO8qb1N/x+ALMBpQiiFH8ZmRQFEZMboyi+KOMlnCh8J0gjTiqQMfcobSA4IzUkGxxRFxAY9ROlDDQFNgFgAiQDT/1j8kbraO0U8/jxbe2a6ermu+mN8JH08/CR6uHpde+38ujtbOkQ7EHuuulN55joC+UZ5NLob+c24mrmN+tf5sHnzfFZ+B/5vfqzAaUKbRTjGmEZkRM3GWYuFTjhJ1IaWCS3MdAvjibMIuEgsxqpFRUUwQ4mCioJxf+B8+zx+vlS/EjuIeHu4zPtVfFm7LfkneX+7tXzxfH/8LvyaPXl9PXyJvUS+/L9bPrL9VL0Hfi/+m34APV/8bPydPZ99dP07PXd8qr25wI1ACf34QLoGN4c/w1jBZoOzCBzLTkpQRrBEZAZeyl0L5wjqRTDFLAYnBP9DTsQbA8o/6fvp/E+/c//q/Mb4yDbTeQf9Dr1MuV+2pPjO/FX9ubz8e6W7mHyuvcd+3v6Rvsa/mP6+/OG+BgAtP1C9Ijs5e/d9xr20e8q7UHudPVq/Cn6G/c8/h4Nnhp3F78I/wtcIYYtOytqJ7IfshzhIxEnCivHKZUYhQw9EiASngxGD6QDLO2f5lnxh/pB8djcxNKv2fXjbuqJ6PbbRNhp6Gj4wvXx7XLy2/rE/CT8AwCNBgAGGgDQAQMFJf4C/DMBbvyR9Cb0gPAH7JXvl++28KH2A/Pq7rz40QjZF2wfEhICBigX0zDlNIEtDCjiHVsaBSRRLggsMh2xDIMGpAqFDFUKOgR/8h3fzeJR9QP4/+Qd01TSltuZ4+jkruBV3Djg/upX73HsvO5g+uQAdPdw8lQAcgqZArT7vf0H/Bn6Zvm98VztI/I+8uvphebI6nnuaPHg8wT0cvfwBPUVbiGzJ4keiw/QIS1JzU/xNHYjTiDOJRY34DpcKioagg8EBtAInRK4CyMAZvUQ40/iqvpoAO3njdmE3Argt+eJ8ZfxB+sq50DqyfY+Acz/+v2c/rj62/dY/DwBVfsq77nqIO+Z6vbcodtw4hvgQNbZ0LXXl+V26KrjL+vw9O74Ag/cLL8xOSRtFrogu0mfYY1IpSgaIMQjhTUhQVYuwxMOC28EHf5ABW0H3Pyb7C7dOd5r8RL6ju8Z5bHect+p66j66wK9/ezshenJArYYnBLdAir3XvSC/zMHt/rp6FPgJuDk53XlbNHhyjra6N5F0RHPNt+U66bsNuvw7vb6MQmMGMUuqUCXN3EgMyPJQTVeWFkKNnIYBxZfJNYxGjMkGan4efG5+vr+u/u99w3wKOJy2fbkI/pXACX1HuWb2izjJ/5/EOoJgvZd7aD7phHrE2IDQ/Yj9Wf3qfN06frfDNxU2yrZis+ZwtPADcy60/DNHsy42bTj1OA25bj5TAmoC4wPRx4EPfJY+0z3Jg4h9kV1Zb5haDpFDCEJDyylOSciCgp1+e/xfPtRA9QAC/6R+Qnt0OTz8DcHJAmx9CXpCfDF/PsHeQ3vC38JZQkkCZEJggal/W3+QgN/7pTR49Yz6eDercx/ygXKOMjOzCLOP8tE093d09+335rhxekS+v8IzA6TD9kbOD+tWfE+FhRkI1tW6GXvRhUYz/wSCw4q2S7jE2Lv++PI8uf6u/nC/tgCgPYx5KLnrwTwGtAQ6Pbe6DDss/07FZMd5Ak78uz05QWjDRQLpwVF/aPtf+CM54/5/vSL2wPQntkz5JLgUdVB1RDg/OLz4Wjq5evh5CTvMQQqCYEBnwQsISNNglcbKesCiRyeUNJh9kInEID1Yf70EjglRx0P97LesOT+73D8hw1lDe70eN3M4nUFKyVJH8b5wd4c59IFWx4mG6ABU+3j7qH8UQRKA0cADfix5OnVrd127D3vceoc4rvWDdJT2UvkZ+jV4xXhxOP05B3nOutr8QYASQntAMEB5yFmSMZUDz55GD8WMj3GVp5Lpyh6/+rzOwm5F6IV4Qbx7ZbiNOkJ8yEFFRP9ANfjIOBF9CAORxq0Cs/rDN0L7PEGsxZ2Dsr16+i58J/6cwE2Bzj/Zexo4H3gIeje75fwZejA3VDXOde12xXg5+Rc5Vre0twa4rvk9OiE8U757/+gBBUWskOkaKlTHh9pFkBAAV8+V/w39gxO7Mn0lBX3GDv+He3o6e7mFu44BoMV5gzV90vomvI8DHwTWAQM83no9OY38V76i/vE/Zb7pfPv8ej0Pfo6AeH7xOsd5OPjyODx3/PnsfDd7crdBs1zyuPY6+1L9FvoE99h3YDfj+1rAN0E+gDiDbM4bGurbOoxWg39L75ktnADT9sZVPa5/Q4VbRR1B9/95e6E6Wr6LAr2D7cTtArR9831cgKmCbIJvgMN+H3use1p9wwI2xB/COv4MPCn9Y8DLQq9A2/2a+L5zxzTWeG94gzbCtdw1czMUb7Pws7jbPMy2mfMwttd4T/lkPWG+EX1rgF/Hm5O3W/6TnMXvRxfRcdaeVr7My72cOUsAykSmwkv/K3vbvGQ+IP6UguNIYIcNAz6CgsPkA6XEMUXXRlFCZfwuOuM/nUOjw4sBJLxVedx9pwIpwXH9sDpYuOf5Zrki9oO2i7kSOHuz9LFUcin0eLeaOYR5Ajdgth84BryZP7CAOz4IPMzF5Ni/394RLwAGQXvOUpdUU5fHDXyDOfi7B/2HQQ5B0/5L/WE/5gCxQXPGTQnGxvdDVUQnhGEDBIQ3RZKDdf3U/KUAUEJd/7v+UEGpQ2uBX75z+0y5wfuufSR60TZPcyc0Cfc8tZLx9DGhdG71BnZL+N14dLYHt1N6/LyxfG98ebxcvukKQhjmGjrOlQMpwYHODtpU0zHCnX1HPMu7WP+dBB6Bf76EwHeAmYCpw14GjUe6h2NHIUXfQ0TCYEN7w8QDI//0vCq69Hw0Phr/nsC/QZICwUGM/QP5vvoyPTI+DvxId/2x7O/P8nnzNLFVsNtyKLQotrs4WzjneRY58boXevh8sX8jwORHHhZZ3p2TLcX+BcMNhBa/mBRL3r6hPQL+rn4PAcxD7oEEQaWDK0DnwN+GNkhyxusGDUTmwah/BED3hP2DqPxeOMu79H6+vmn74jsIgUZHAcKXu0d6j30ePxH/o/1j+X02L/RzcynzIPN5Mkhx3PJUcuJy7TVZOlZ8h7oSt9W6c/vdO4YD/5K+G8Ibv5Frw6XB1g84mRGWiUrJ+951kvxQw2gEd8RHArc/GMARwzTEdcWfh2mInoi4Q6X8urunwWKHBkXU/ZL40D0KAndA2v0ZfPSB4wkuiYw/dHQwtUo+wsK6/R30ue6+bhNwObAm8EozenTwMpTyeLc9PG4+ur5FvXo7zDocuah86wKsjEWYTJq0TwuDYgIaCqmUSZTti5SCVfzgO5x9sj/XQlwGCYehBJwCNUFDQcmEpQmxTB5Hs35JuSL8AkQoSE6DwvyOO+n+3oEXAylCV3/KAhoFQUE5+Z83WDhiu2B/Njwasr4tQzDw84cxjnDjtX56MLvbemo3SPlxf1mAYfvNecz4NHYjPHNGTc0IUzASiYcUP1uGE5DOFYYRHYVKfmT/0cImQXOA3YKKBSSF2gWow/KBxAQ2xulGdQS9wmt/uH7UQHLAJLyyuqN9mD7jvVC/Q8H3/1o9WUDAhS1CovrVtM72OLtkPJR30fHobkmvQTPmeG45lLhq97e5Ovy+fuj9FbtQ/Ls7BvX29Da4Sfu7f7lLbdaJ1/iRugoNyQRTitzz1zCMYcb8Aha+4f88v5SAckKYxVNHd8cpwzh/LX8UQVnEfQZKBAQ+yTskedv6rHq2+lk9EkG5Q1dAcDqZOVtAGYa/guZ6onf2uWA5Vng5dyr2OrUWNR12BvcuNoQ2ubiE/Tg/ev8M/i48gzy5utE3YzdgOaY3gvfN/8iJS9I/mDNTuAicRdsOd9irWXsNrgHXv70AyQEtwJiANz+KAi7GkMd0gqT+6T+4RBAIcEdzwep9O3wpO/n6LTrN/zsC7QQEAkF/X/6TQK3Cj0VuBef+j7P/MBo0frbqtTgzzHUOdpE36HhdOTp5yTt0flwBhkHWvtp68XfCN4X4CjfO+A55GDpk/HdBT0tdVEVUSAyPyBsL6VHlUsBNQ4ZuQ/zEFIENPKl83QBGAxGGLcZcgVf9Z323v2IBjwJswCU+vL4XPXO+SYE2gahCjkcxCqBIfkHVvOa73j5lgL5+QvgsND82Rjlp+OF4evipuoPAAQNJvzN5wrpXPLp9vn00exk6Q3tZeiX2dvSJ9pu4ADggOVs+WMbQD4iRo4vThwPJOw7CU3iRmEqThDAD2UXlQmn92X5GwLiBq0PfBQBCFX4d/Ny9j//xQxPDuIEDQOdAaP4SvSb9yb5E/7MB08H1/iD7PXqqOv96YzoBOp961bqzuy08hbzA/LL9cP5GvaV62DmBup/7cPpsOOY5xXyIfVH9O70I/WG+PL6hPW+8N70SQOEE68T4wkLENAjQigbIP8gDCRhIsAnFC6pIk8TNhP4GhUd6xGy/1/4xP1u/hf7MPzgAB8HEwXa+NruR/DK99X94/8U+8v1lfWJ9tvzgu1S7nP4Yv/CAU8EEwYDAyP9q/0EA3UB0PeE7ijpPejk6TDsRe1Z7sv01/61BhgJ6gRK/4f8Cfr29CrvAO9H9RL8A/wb93z1h/oNCQYbUyWuJoEgyxXeDcALEQ0fDewMkRBnFGYTWA1OBQQBVgRDDQoTqBB5CpQDp/x496H0hvPR90wBaQa3Afr5ZfYi9QT04fNO9ln4gvjd+n78Y/lU91b8hgL6APr5FfaQ+Jf74vrm+A74svjS+JP1ffAP7ZLu9vTP9UvxdfFz82D1hviK/DT/9P7+AmMJ3wsBC+IJDg0zEAcNZQc7BwAONhapFhoRQg6iC/kInQnDCzkP0xBaDZQGWwFHAbEDCQdcBPP+fv+HAHf/Pv6n/i/+gPx7+vv4ivq6+z76S/r3/ZMBYgIuAfUBqgVlBzYGsQIR++v0Lff1/1oD8P2Q+V/5K/yB/XX5YvMW8+H6wgHv/Qn1V/Sp+AT5GfiQ/a4DnAJcAE4AvgBRAcIB6P9I+4z4s/t0AoUEsP69+o/+mgPtBR0GPwX2A8kC2wEhAnwERwiZC2ILNAd7ALT59fSh8zb17vip/XkA0AA8AcoC/gQrB68IXAuBDNYK3Ac8Bc8E5ASlBAIDbgE0ACwAjwLaAsP/Gv3B/mn/7/wK/Z//xQGRAED+ePwi/CkAwwMRAhr7VPXv9Xn36fak9cb1NfY09i34gvqS/LL9I/74//oArv/O/gT/Fv4i/qv///9jABkB7gB5APn/oP/e/tH9XP1a/jsBOAPFA4cCrgAQAD7/lAEJBz8J3QV2AHT9jP6zAbcC8AH5AjYEOwIFAIf/qf/HAYIDFgR+BYoGLwaHBUcFLAT5A1gEXwPTAEX/l/66/If8Af0R/AL8HP5FAHsCaQKI/zX/jADN/2H9G/uG+fP3sfZ29Vr1r/cS+ef4pfh/+bL7a/1Q/lv+o/1D/uMAbgKbAfr/rv+cAYEEpATwAFH/bwGsA90EaQUwBecDGAJPAWUB7gDZ//z9ev2m/2wBFAK+AjYDyQTEBigGWQPWAqQFLAejBYMA5Ptp+zv8kf2x/c78XP3S/tX/RgAJAFH/Pf8tAE8A2P2m+g75S/ku+aT4Kvmo+s78rP4u/uz8Hv3I/AX+ZgJLBH0CpAAx/wL/2f5t/Q/8IfzM/K776Pn0+cz8wQCWAxkEpAOgAjQCpQMLBVIF+gN3A44D0gHVAY4EagazBpwG4gbIBhAFYQRvBUIF9wNPAj4AC/+BABQCgwJLAmwAoP3I+9L7S/yR/IP7R/q++c/4offh9yz6FPyz/FX9N/4h/sb8avzv/mAA9f50/I36Fvtg/cj+cf0S+x368fpS++f6FvxC/q//VQB9AHkAJADiAMcDEAb8BKcBOv97/ov/TAHDAUoBLwESAxgGZQeGBkkFGAXgBawGVwZqBCwB7f/+AacD2AKeAQwCyQKwAkIBcv+sABwDPwKJ/5P93fx0/mMBnAGN/+3+LwDpAagBGACv/z0AfADP//f9BvsK+Kz39PpP/Vb9gPzB+xH8gfxB/sMA3QFQAJr9u/2i/sL9xP3t/r3+kP30/Dv9n/2Y/cb9jf7L/yUA1QALAngDXwWHBHQCewL6AwQErwL+AXIBvgAtAP3/df/V/zkCQgSfA4YAkv7E/4YBrQEpAUsBGwLtAqsCCgGq/1sAHwKLAuEAKf+h/3IAdwAnAI79rvkU+H/5hPvJ/Hn99v2Q/pL+Kv87AHEAAADx/+j/YP86/wH/PP4D/kT/YQDV/8z+If6m/VH9uf2F/1oBNAJBAhgCZgFz/8P+XgD+AYwB3/9C/oD9Q/7A/lH++v4+AYoCEwKiAWQBAwEQAmIERgbOBbID8QIVA4ADwgLcAdkCRATABLEDQQLWAFsATQDq/hT+Xv5K/iH+G/+d/7v+tf3c/Y/+cv4m/pL99fwf/d/9Pf5F/r/9g/04/nP+uv7q/pP+B/8mAAkClwOBAlgAz/8tAckBeAEIATYAcv98/oD9X/wm/IT8L/14/hn/Xv71/aH+bwDpAkQDoQJzAiICOgG3/+P+0v4LAE0CpQNqA74CxAK2AoABFgCL/3gAIgJhAa3/CP8c/wAA+gBvAbcB0wH7AG//I/42/nP+C/6q/QX+bv4H/ob9/vyu/M/9qQC/A/kD/AH/ACkBrAGaAY8BdQE6AUMBdADP/uP9vf3L/UP+zf6C/nv+uP/gAPEAfgG1AuICaQLPAOT+of1b/d/9Mf6F/ez85/2///UAVwDn/jP+F/7e/az+K/9k/kb+0v6a/r3+ZwArAvwCNAOwAt0B+wGGAtECMwKbAYkBagGqANj/GQAsAfgC4QSJBQAFvwSPBFIEdgQiBFsDwQJ9AUoAgv9v/mX+vv4Z/27/hf4W/Q39qv7j/0MArv8x/wz/8f5o/j790vyO/D/9iP4Y/yL/V/9O/x//7v4K/nv9wf3z/XD9H/0L/V393P0S/+YArQHgAX8BHQEBAUkBEwIaAlwBBAB0/gz+D/4T/nD+av95AFQBJQKQAgED8gK2AkoCLQISAlUB5P/8/Sb9ef0k/h7+wP1x/k3/VP8X/xn//P9KAXcBtwAtADD/+v4IAN0AGAH7APcAcgFXAj0DOQNRAiMB8ACLAR0BQACl/3//Q/8fAGsANADIACsBsAG/AZgBZwGmAaUBrAB0/zf/X//v/qP+Gf9X/14AdQLxAw8EDQMWAoYBIQLYAvQCyQGEAIn/e/5J/lb+Wf51/r3+cv9BALn/Tf/7/vf+JwAYAYUAt/6R/eL8Y/xu/YD/uwAaAcYBzQGoAP//4P8E/8/9dP5e/8D/5/8x/+T9sP2T/48ASQADAKX/cP+q/z0AOwBv/8L+C/6+/fX9gv4y/5oAMwKlAr4CtwJhAtUBvAG/AcUBRAFcAG7/f/+r/9L+8P7Z/3QA5/+//vL+NQBvAHMAIgDo/gf/cACoACkAdgBKAIL/f/8XAE4BkAKNAo8BlgCrAOIAYQCx/2//EP+L/iD/MwA0ARoCzQGwAJ4AAAGrABkBzwG5Ae4Agv8K/xT/s/9XALH/XP/iAIoCLwNqA7wCdQHAAD8BSAGtAR8BX//I/sf+N/+P/yr/e/9SALr/cf8FAAAAev8q/2n95vzA/oX/If/1/qT+I/+mANsA9/9W/vH9Vv9CARUB8v52/dz9cv64/db9df6c/uf9tf0l/zsAr//V/pT+LP5E/kv+cv2d/eT+yv4t/qX/+wDp/0v/gAFHAq8BugKuAuAB1gFXArkD+wNvAlwAbv/wAEsB/QBLASYALQBNAS4BwAEAAhYCbwN4AhoAmf/NAH0CQQOAAi4BfQDrABECPQJwAMn/VwA8AKQBBAMYA+ICOwK+AW8CKgNyATAAeAE9Acn/TgA8/xP9fP6B/gL7ZvuR/nAAiwMq/5/4U/wFAhoFawSm/Tv8BQK5AlwC9wHoACMAc/3v+V/8ewOtA4L9JPmX+QT7wP9tAzAASPv6+rz8F/40Ak4Egv+6+SD68f6PBl4KfQO9/KwC7QlbC0oJ0gA/+sL31P30A0n+x/mN9u700PpJ/0v7MfsE/M/6Y/9TBPcDNgERAg8F9QbmBoYIkwb6AxwEhAIdBegKKAVR+zj8rAKYBpYCbPuO+KL9UQJ6/3r6Dfeg+U7/gv0z+rn6O/wV/R4AhAHA/WD8xQCeAmj++QC+AqT+8/2f/v8AUALR/xL+e/6JAIkBFQEf/t775f3HABAAYPve+ygCUQEE/UP7Nv4MBAL/SfrS+6cBYgNV/oL+hwAEBX8ETP4D/6wDegRBAvH+If4xAQECsgHOAp//bv24AwMGbwOcASwAbAKtAqEBgAQwBgX9yfsYBdUBXvxW/9QEGQRXAQP/2/1iAl0FIAUgAsv7L/61B1AFwwBkAfr9lf0fBL4HJAP2/D/7UQDoBB8ECwE3/fP5Cv2MA5wA8/oM/qwBmv/a/WkAXAGe/b7/2QI1/rr8lQIuA+T8qvpk/z8BT/+SAeIBlv1C/eQAywLWAsUAkv2S+yH8yACTAw39+Pdw+l39Mf6L/q3+wvsQ+07/oP7v+pL++QL+AVv/nP3SAG0FhwbiA0D/2P77AfYGtQdUAYj9TgH2ArkB2QI7AAz8ffyT/tf+TgFo/1P7cPyr/V//mQAo/+X+xwCy/l3/CwV9BGL/jv4+AKgCLgScAYf/if4i/1oBSgLpALD+nvwN/VQCDwTC/779uP7+/4IEzQTG/fb+SwX/BZgDo//k/wIFVwT+/0oATgGDAWgBwv+fAdYDgQHk/0oCzQOpADD/WQKNAvz+zQE8Ba4CV/5pAUkGBgDZ/pwAUv+RAcsCLP+N+9v+hwGMACL+jfuw/XH/5v0W/jH+1f3H+2n6/PzOArgCq/vf/NAA9AGVAb4AAAFFA9MEz/4c/oMCowKiAbz9rfytATUFQ/8V+NX7DAL9Af790/1D/cT59vxwAs3/cvll/Oj+nPpU/64DBQBI/gf+PQGJBVECMwDfAgkCcQMlBWQBof6XAAUEvANm/wj8VP7PACUAWQBm/jD78P5tAcH5HfdQ/0oB0fyN/dIAIgEQAYwB1v/rAFwDmQSDA3z9lv8yB0YF/QAMACUAHgTHB44D/P4yASQDWQO7AEf8Zv2YANH9ePo7/AX/9wBf/6T5tvkHAw4Etvyz++MATwObAO79Bf5wAXECIgJ/Afj+CP+fA1gCr/yY/xIC1f56/Uf+rP6s/zv+6PzH/hn87fkD/yEAjvzU/U//uv3C/Z3+rP1S/6UD3gGI/WX8nP5OBNwD0v61+337RQG2B98DpPje9in+xwWOBjL9lvcJ/EQCwALb/i76gPgW/6kAd/wQ//7+7fqo/CIB8gEv/r35LP7PBM8AeP0EADX/Jv4HAcwDLAL9/23/8v5IAHEB5gS2BWn+V/vQApcItwT1/QD+jAISBKoB+v65/1QAWQHPAer+Df2T/5kB9v8C/xn+sP0/ADsByf/3/rf9Ufs5/hcE3v/B+gP9DAE3AdP/NABI/54ABgEYAM//+P4pAacDvQDk/XgA+QIvAdv/8AHmAaf8zPxnAz4Ck/4nAAkAF/5TAXEFqQM1AMP+0v/DAaQCxQQlBSf/w/sGABQD0gMkA7z/Cv8kAqABQv4iAroE3ABK/xYBMwMUBJsBsP1r/c/9nwEcAmz6kfhj/hIBcf3I+wX+HP2e+rH8PwAaAJL8b/xq/+/+Nv7wAMD+8/mv/a0CzQHB/Gb6Wf/EAoH+yPrv/Oz/Df6V/fH/hP1f/Qz+c/1Y/lj+6P/5AGn+ovzEABYDyf8A/TD9xP9NApwC5P/p/+gBrQGGAhsDBAJvAZADtgRHArMC+AVxBfYARwLIBkEEcgGvAdEE5QcsAyQAegMHA+4BJgSjAhj/nP/hAtcCEQA6/xb/6P4j/s7+Qf9B/b38WfsL+hv+AwHL/ZL6xvnp/DcCjgBw+lX6e/0u/vn+3/6n/KD8+v7i/cT7CQA3A5v+I/1cADoBVwIyA9wBLwK3A2QCCQOiB9kHoQMoA6oGVQhzCIQI8gfCBpcFRAfICVcIhgObAVsDBgPWAVIBJv8f/K/5N/nS+vj4MPQu8VjwuPGZ8trvTes66+/upvB/7zztRO1U76jxjvQP9Zn1ZfeA+F79egItAAT+vATQDacRhQ0sCTUPhxqCHVAYkxdlGGoYuh3GJFMiaBYaEuMYEx0zF9gQDg64BsIAYwNwBZb8bfCw7LLsNeqk5zzlEt551mnY4d073BzYpdj82prcEt+M4g3lLOak6SvxP/d09r71N/49B1sJsAvwC8kJ5xQ6KKkpMhjYEfgiiDN0MpIocyEGIScmAC3VMCgoDxd1FOMfZiKSG2UTRQm+AEz/ogWOBtj3Jubk4NXl7uwA6yXes9ITz2bXB+Yz5U3RV8xZ4BfqHeJW4iDppuex6eTyffYA9gL46/l1+v/9ZwZDD/oLMv11+4sVazAWJpkDzvpwF8w1yTyrJHb+PP7YLoVLciyvBtQGuhkqJrsnKBk9Ah39mgfmCToDBv3D8oHkM99Z52XwGOm01B7K9tMC44zkM9tO1Z/Xlt5M6Crv4u2O7AjySvVK9DD8UQmJBqj3zPaxBXUPtAxBBWX8mfmvCUMivibFEPv5Of/wIvo/uTWhEwIAthHPPQ5T8DAgBXkKADKBRIYyDxWXA4MHVhiKH5UPc/T85b/rZvQ28OHmseBb10zN8dJO5Ujp4tgizSnTsd/S6V7vuen73JTdJ/EOAf76JO3r7en5if5B+776+/t+/Gr+Pf6U95r6KRSHJDQLKurx+O4pID9kIWn8HABWIpU5Czb8IgMPtg4XJvk1PypyE08GAwhSEN8RwgtTAtvx0uN96nH7APsv57LUd9KR4aT0NPYH4B3Lu9fU+xkGx+ot2grusgM5AjD3N/A48tT8fwEK+lPyU+0F8oAEKwJr4QPePwL6FP0UMhCL8BrgrhdOT9M2awLO9q8T4D3qUAg0NwwGCkQkaDqCOZobp/oZ/UwVbxerA4D20u4o4DHcm+2t9gvlR9DYzE/Yhew6+CnpXtIw1iXy6AX8/1zwJO8q/E4FzwZSBrz/Rvbq+HkCbv/u9tj1BvUX9ff6T/TJ50X/jiRcGnv1Ke8wBqwqUEY3LeD4//gEK8hJ20BlIa//SgCdKFc/qiJ2+XDsrfqxC9UKV/rs5RDVttUY6CntPdugzinP1tAR2mjsf+522XjQc+gDBPACw/Cu6hX55A3AE0AF+fRZ9zUKFhYsBxfxP/V/BOgETgGt+h3s/fgHJeMviAZU6CoBbTT7TDczogX8/lcqsU6pRPQlOhBsDXYj0zrKK2QFTPjJAHAE1wPi/5rwoN3P1unevez57ajahccUzX3joe5F5rDaPdkX4fXrxvVE+wj1jumr8LAHfQkm9ODu7v0NAyX7jPaf9LL17/vj/gv4QO9f+/oecivgBRrp1QcMOflFWS5hD4QGrxztQDpSdDXnBID+oCMWOTsqug2p9hDzDf95CBAGcfYd3ybUWOG38TjwyeJq2AzXP97a7X76pfOc4obg7PCvAeUD4/lE8lD4sgKLAOn4z/gT+3L5SfY69c3zDPEV9Z77pvNE5+n42h6qI7IBKeq4/HMti0zGMXP/Ivj2HGNAeUdGK8cCGP9fHCgq1SILFCr64ukU+sMP8whS8DvhCN7g49/xmfU+6RzfueEp7XP5n/s58Vrpue4w+Sf/kv2d9J/vbfZI/Gf1ge208DHzM+9/76rvVum46yb6kvvY7LPtJgYrH+MguAbH9SkRDDwNRNws9RQlDrQhXkBgR8Ar4QurBXQVIiTZIEwMFvTn6oDxgPkr+pDsFNlq1SjgzuI03n/j3Ohx4oneROUw7kn0o/bR8aHq++sK9U3/tQA19e3q7OuZ8V/0CPWR84nspeUx6eHyKPgl+RH5cPtKCs0f3SLeEsoNUyJWPitJtzegHWgbqzFwRBJBBi1sFgsPgxjVH9wYlweB+VzzfPId8z3xo+sH5Lrfy9663uHf8eOR6s7rGuRC3VTjjfRC/U3zjebD6Jr16/sz+iz2bu5q54XqGfTH9YfuAejQ5qjqWfIN+XD4ivUK/eEQkyD/GpoLkQ8YKRQ9rTv/LXQglR8pL2g9wThKJYsWTRQzGJgZZRWYDJT/MfRa8Rj4Hv089jjpqOHq5F7pROlT7JHw+euu44HlQ/AV90Tz6+r36A3v//Nj8wvwF+vr5mro9eu66vXm9Obi6ErnzebZ6//xM/N+9Mn/Kg/pE80NiAweGOklji1TMAsrDSITIwkvnDf+MRMlnx1gHv4dRRmvFt8TpwrLAC7+xv5F/WD3LvDN7EHpcuWG55vsoOsM6JPpyOnE5wDrNPBS7+bqVOon7SHvBe+b7ZXrI+uT67LpRukB7eDtVuqx6VXsI+468aP04Pai/Q8GIAeDBAEKJxWdHEwfKh/0HzAk1iiCK68seizDKlknHyVXJH4jqCBKGgET1w1SDB4L7QaKAI35qPIC8ADy2PHC7u7rO+nD5krnSunq50vllOUh5TPjR+OR5Enl9eQb5MDiGeP85Z7mMeT448LmTOg16BjpPOw/8eL2CPsi/pwBagT8CUkTLhuUH2sinCNcJj0viTe1N4M0tzQkNZIyqDAvMWEuJSZjHNwWCxZ6EksI+/3q+KL0YvBu7iTt2+lh5VLjv+KF4Y/gRODo4LDg7t5S3qffqt/f3YXeU+DB3mLcF94i4aviNuML4oHhMuR26C/sKfE3+Vn/HwIQBjEMzxM3G/IihyjCKU4qiC7XNXA6QzprN2g1YDR0Mx4yoC52KUQkTh7IFxASkwxQBhT/wfc38dvsW+yY7T/sWOgU5i7mzeXn5FTltuXc44viX+Nk5C7j7eDK3x/fX99q4HbgWeCv4BPf+9074bfmrelF61zwe/bB+2kB1wWXCbsO2Bb6H1MjmCIEJUsr4DDqMqEzijNbMxkzsTHjL3MtWSnLJC8g5xlTFJ4QcQswBP394vhu9Y/z5/Cz7X3qKOdW5YDmiOWi4Qng3eA44tDiV+Hy3X/cJt6/3oDdM91e3XPcyNwm36bh1eNt5tzo9evC8t77KwJ2BE4HUQ0DFY8dgyRWJuwm1ypAMMAzDzbNNwk2RzK2MEgybTFHK3kkxSBwHdAXkRHjCxoHnwG0+qv1bfNz8IPuiu567Ffn6eK/4PzfCuGM4aDgO98/3ubdNt2S3WXd09pu2VTatNvI3LDc79u03A/gYONx5q7rePLF+fYABAdsC9EQfxk8IsEo+ixjL0oxmDMcN0U6eDksNSwytzFeMMorByYiIYUb/xOXDUUKQgfmAev6cfV98SzuUuw46xrp5OVw453hQeB9303e4N2j3kjeId6J3sLcAtvW24DeKN/T3Tfe2N8J4evhPOQA53bpRu2r9HT+WAYpC4YOVxRBHP8jJCtUMEoyRDNGNiM6djsjOfU17zL9L4gsRijGI78drBY3EaYNtgmzA8L9QPrF9+301PEz72Pta+vY6APnsuQ24WbfUeCs4SLgKt2o2yXc7Nyb2xnZeddY2G3a3ttq3HHc2dwR3tHhxOdh7qL1/fxgBIwKxw9WFqAe5CYALmkyCDQSNrA5UTzpOwI6zzY5M+cvVCyaKNoiIBsgFfsQGwwBB30CtP3c97vye++X7NjqFuvx6Qvmv+K24T3ikuLn39Lcg9w73cjb1tdP1RvVuNU+1n/W1tbC10zaZtzO3RjhkOUa6xTyifrhAxwMWhJ+FxIeWCaELvw0hTl9Ozs8/D6qQRdBqD0cOoI2kzJwLmwoICHRGhwVbw4NCagEN/769ZPwre+d7YnoEuUu5UDkjOGm303en9wH3H/cudsK2vPX6Ne+11HV5dOu1DbWHdd+2EDaANxu3Tzf3OMr60LzG/tyAhoK+RE/GZwf6SVALV0z8jeWOv07rj2VPmM+QzxwOeU1hjEcLW0onSMpHtMXTxEgC4UGugJ9/IL1r/C97e7pquYQ5lLlKuM74Ijed9043YbdJN3o26nZAdlA2q3bdNrm1gjVNNfv2n7cytzg3HneDePq6WXxX/hGAMYJLxMgGgMfliQKLDgz3DiOPC89LTyQPJ09BTyvONsz4S0UKsEnNCMkHbkX8xHSC64HWAVlAf75gvKt7s/shuqs5x/mNuRT4P/d2d3H3QPcw9m32E7Yati82I7XW9Qw0h3TWNYB2RPaqdq82j3cQeDD5jbu8/Qg/BoFLw9dF9EcHSEBJjwsDTODNwg5jjkQOrQ6Ojq3N40z/i7SKhEo3CRyIIIcfhfeEOEKLQfuAsH7n/Tf7xjt8Ol05u7kg+QI4/ng+d9+3sLbtdlQ2RfZZ9d/1eDU69To04PSrNKI1GPXndnR2oPawtqD3izlfO2k9Xf+9QiPE4AbISACJfYrhjM7Od08zD5bP3k/cD8sP6s8mjflMUgu6iutJ24iKh4aGmsUgg5hCt0Ftv7G91v0tPFX7cXpYOhy55zlFeN44CreWtxP28LZN9dz1erUK9TX0ffOGs68z23S29WP2MHZcdul3vPi3eff7rL3uQAyCyIWiB6PI7YnIS1WMk42BzlaO6Q7cjqyOqM5IzbxMZwtDClgJXwiZB4gGdQT+g4FC6EH+wLi/Ln2KPIj74Lrdujf5x/nXOQm4mrhkeAE337dytyd27vaYtqO2uDaLNn01u/WptiM2iLdZN9M4I7hy+Qw6lrw/vau/6AJFxP7GkIgbSTyKO8trTJYNgI4cThHOUA6SjqFN4wyVy0wKs4nlSPLHgka7xS6DzMLtAc/BBL/Dvnf9BXyP+7d6uzpnOmW53jkOOIH4djg9t5I2wnZRdlr2orZQNcG1KvRYtLz04fVAdcZ1yHXEtnn3LfivumP8C34uQHkDNIW8xxQIY4mqyzVMpQ3EzqeOoQ6jzo/Ok44HDQlL4Iq+yYHI0gepRkMFFQOYwkKBZIARftZ9uvyN/Cw7EboreVD5fnkfOMk4RXfgd2G3KrbMtpd14fV5NUA1vXUldMt08nSjtPh1ZzXlNg/2WTbWODI5wTwOfnSA30ODhjGHuYj8ig0Lys2QTtQPgpAMUCbP58+8zu4N3Yydi1KKfgk1B9FG6oWXREpDSYJEQUBARf83vb78oTwI+0D6hvpkue75LfiROHC3vzb59oR2r7Y/9es14fWONbF1h/Vy9No1OnVFde62PjaS9zg3qjjFevR8yv95QfxEQEaQh95Ixcp9y5KM082QDjCOBY4AzjsNzA1AjGWLOMnJCNjHxkb0BVwEXoNRQkhBRsCuf4F+qL2jvMe7wHsMuvG6p3p2Oec5XnjTuK04Y7fa9w527jb19zj3HzbJNqQ2fLZ49kT2g3bW9xD3ZTfKOVc6wbzhvzcBkkR/hnoH9QjuSgTLoIzPDi4OR454jiPOBQ4CjboMGorHicFJXUivR3oGIYUERCjDLsKDwcjART8IPnc9RHxcOyX6Y/ohOjv53/mgeW+5Hnjd+Kw4G/de9tF3CLdy9rA1m3UKtRA1CPUiNSx1e3WlNha3T7lSO1w9uABtg0BGMEeoiO2KGctuzHaNBw2mTc+OAc4YDfqNGYx/ysMKMYmRST3H10b+xeTFU0SUA64CtYGFwGm+/P4tPUz8bTtfOyW7LHrourR6QboGOaI5LzhLd672wfadNiI1uHTZdFD0B7QTdCo0AHRndK21IHX79335jPwpPmeBMsPPBeXG7UfMSQTKQwtwC8AMY4yjjTBNU01bzHVLLwoMiZcJSsjUR+fG+gYYBaiEogOCgtfBo8AuPvi95Dzx++L7vju1O5m7j/uTO3W6wDpCOQN3zXcN9tl2WLXPdUE0ynSptFl0JjOmM1RzSHP/9Md293i3OlK8lz9JgkcEsAX+hwiI7Ep+y+UNCo3uTe6N/I42DmgOBs1vjDaLAIqBifgI/UgIh1pGTQWmRJiDX8F2P0x+PDzTPC77JDr1esX60TqYurt6cHnruUN4yngON6G3PzbQ9tD2b3VbNJ30RPS3dLq0pjSg9IK1fjZq+CR6Jjx+Pu/BegO1BaYHVQjHylML1M0DDeSOEA6aDxEPmE9MDsjONk0HjKYLqkq0SbWIsEeAxo9FEAO8QdvAZv7j/Yo8ojuqesv6lvoAubo5K/kCOXy5LDjheGu4Dfgw94Y3ZXaydgA2ErXK9aK1TXVA9R809jUmNh/3SfjLOoQ9Fb/uQd3DiUVNxuEIDImZisCL+Yx7jTaOJ08jD42PrE82TpfONszly4yKqclux9JGZoT7Q1WB20AN/to97/yYu5/64fp5efb5Q7li+XQ5fDlXuYi5lfl4OTo4/Di+uDi3Qzc4tuu2/bZztdw1tzVBdYx19bZyt3g4j3pJvJG/A8EwAlXDngT5RgzHokj+idzLHMx9Da6PCtBmUI9QZY+Jjs6NhYxzSxHKfQj+hunFLANWQZn/7753PQL8LTrx+jG52nmpuNB4ZrgiOCH39Pf0uBR33/dzNs72CPW2dbq13XYLNgu16rVgNRU1AjVG9d+3LPkL+5B+jgKmRlpIukmjyklLGEvDjNMNRo1YDUGNRY36DkFOKo1tDJnLD4kHR3FGF0UQBAmDPEFBQKMAeD+xvlG+Ar4R/PP7pTuFO+K7jTuoe/170LsQedy4+DfI9x12IvT489EzlbMwstszHbMG8zQzAPQ9dMi17Xcc+Yv88ADQxYMKZI7b0lJUJVOd0fUQC46gDG9JTAdpR2lH+0eZx1/GwIZUBReDUAG6wFD/+L7bPoq/Q8DFgeaCCML+ArvBrYBM/33+rH4ufWD8zPzO/M58dfthumw5GDfMdpC1JTMHslQy9nMBs2Fz9/SAdTM1G3XitsO39Dix+ve+gcNtiBZNlNLtlYIVapOnkoHRIg3VS00KNkj1iAfInojVB+mFzcORgczBB8AP/3+/j0DEgW2BJAIjQ19DO4H+ATeAX38ffnx+q78tPqk9p/zn+/o6CPhVNyS2pfYHNak1BvV5NOQ0LbPW9AIz3TN1s2s0CXWC9qz3G/lTvSkAlIRoyVCOhxH1UxXTbxJNEQEP147KzbkLsEo2SfOKNIhchWGDPsJfAhIBBAEcwtaEVwN+AZWBmgF+//T+uj5K/pa9w32HvrA/Y/6UvNz74rsBOSP2wTbhN1U3i7f+9+Z32zbwtS+0AvQ3s9Tz2zRvtby2hzc5tzB3o7jOe11+kYKBh5hNZVHt0vJRwhEIUD/O4s20C1AJvwnGyzfJZobaRbmEl8NNwgPBTEGUQwZDRoEkP6pASkCQPz39lf3ivtG/o7++P3F/bj9lfry8rTq6ecc6xTugO498MHzRPQG7QXgA9bC0v7PdMxFzqHTzNZP147WQNWB1Z7ZyeNe9FgFlxXQLO9DN0obQ9E8ZDt1Occ0sTCvLDkp1CiJJtgcNREECwgJZQfkBOgCfQZRDHIGKvrd+hEE6ASN/gz92ARwDLAHkf7b/bX/Qfs28XbpLOmc63vqSOdR58nnN+Lb2dHT583JxgHDM8M7xJbGOcqbzW3QM9P61d/ZC+Ku8JQCaROPIqwx0EFSSeY/lzRjNtQ50zHaJrskZSj3JskdAhXqD9ALNgiHA1QCLggLDIEJCQRJAVwFgQiEBUEGkQ08EmMSMBGyDGYEzP8AAsr/rfXq8pL6Lf1h9RjtEene4T3W2c5TzMDHtMJtwxnJJsxoy/jPK9fj1ujWceDB61P3tAcnFiIhoS9CPk9CVDrBL3MrZSuRKUwkwR3fGpIboxlxEtkKmQcdCEsIvwSYA9ULyhBGB6799wCnBzoHPwZWDAMSTA+NCiIJpgSj/Lb4evlf+azzCux4647tSOUN2anWzdcP0ozJ7MZGy0nOastByvjN09D80YDVVtvz4AToUPPX/y0MKhmDJ7Y5F0VjPxU4ljYiL14qXyz8JWsh/yeQJYwbHxhrE1APaRCPEC4QKBFgEyERngX8/EMA6ALX/YD9OQc0DpgKOwXKBIMD0P3u9kDzg/PC8VftZuyj7TjqU+RQ4Oja19QqzyTL5sqtyuHI98jry8/NZ88Y0hTV7N177LL4PAViFMIgBy6JPftCxjzyN4030zapMlAuAS72LSkpICFTHusbRxBrCKcK1gesAkoFDgXV/mT4fvIV8mz0dfKR9Dn+0gI2/9z6X/qM+gP27e3U6qru6e/H6+joqOnN6bjoheWu4SjhyOHS3xHdNtsj2eHZzttW3JzeguEF47PnCO8w9Rb9SQpoHQQvtTc4OzQ7fDWDL+MuXy/SK9Eq9C/FMGgpGiGkGKAOVAjHA90AAgQRBjsCMfxH9lrwaO2x7d3sw+zk8J/1Fvhp+U33ZvMN8svxWPDg70HxzfE58Nvt3OwV7OTo4+Uo52fpGOoh6sbqFetN6afmr+VX59HlSeJo5cDt9fLh9+cCOxDhHDMp0jF5MzIzoDQjNhg2HDVNNPUz7DHtK2kk7hzGFZkOZAlUB+UHqgYW/wn47vR38ODqxuZ84rPfyd4n35HiROUZ5l7onuz47wXxa/Fv8sjyZ/P/9P/1Qfnl+0n8mPwk+yr5d/hW99v0RvMB8z/xmu/N7mfrFemi6EXn2ehp74T1jv0hCjYT3Bg9HiUhvx9tHfgd1iBKJDgn2ik0LUkv1ixtJzMgpheZEAIMNgkcBzcDFf3F9kfwi+jg4RXd6doa3bbhd+Vq54zpSerz6MXpPO3v8Av1wvhJ/t8FRwn0B1sG1ASKAuABQQBm/B/6R/m1+Pz5w/qE+Wb5Hfk+9qTzWPJO8K3wSvTT96v85AL7BUwH1gqvDvwRtRXFGeAeiyNnJe8j4iHCH6YdRhzFGNYV0hVcFKoPKwrMBawDdACM+qv0YvGB70/t3+uP6jjp0OnH7b3vYe637F3t3PAK863z5/Sp9wT6hPne+Yf8i/6V/94B3AfJDF4N3wuWCkUJBwUA/x37qvo2+Xv1tfLD8IPu8uuq6hXs7PAp9iD4H/tgAZcEuwReBlwIPgoQCxILiAx4DzwQfg7NDh4R7hJ5EhcR8g61C1wHCAO5AIb/sf2r+2H7H/qw94n29vYw+MH5qvvu/iYCSAToBsQIAgq9C44NJQ6RDrgO7g2HDHcM5QwjCwYKHgqLCAoEIABA/Yz5A/VF8bDwLPGB8NHvcvBL8Trw5u3I7L3sFO4K8cL0q/jB/CcCoAWaBk8H/wZwBmcG1QbIBz4JngmpCBMHMwQeAO/7uved88byYvUK+Mn5QPsi/XL+IP4s/tr+1f+5AHcAdgBAAUoBMwFfAU8BYAIDBIIFlAYpB7cGfQUyBYMEywMGA0QBrQA1ALX+ef2O/JP78vno9132HvbO9r734flv/fb/HABCACECdQObAwQFNQerCJcJvgrwCskIGAcDBhQEzgGh/nz7DPte/LH8MvsI+ZX4mfib91L2evYg94D3h/gk+Bn45fh4+R37P/zK/Bj+df+FANsA6QA2AdcBnQORBXkF3AP3AigCVQFXAWgAVv9U/3j/H/9q/vv9SP08/c7+OwDHAd4E5wc0CpULKQ1GDtcOTRGgEm8R4Q/XDkMNywrbB/kEmQNcAk8Ag/8r/uX7L/rK99P1gvOx8Nzv8e/47pztA+287eHuru8y74Lul+717vLwqPJO8zv0dva4+Zn8ev40/zEA3QGkA+0FowfbCKQKlwvnC2IL3AmmCJUI5wi/CDoIRwgRCVcKYgwKDgcP9A/eEDIR/xAaEIcO3w0tDQwL/ggPB84FawXCBDYDkgELASoAKf/a/jj+ufx4+0H6Pvg29qL0xvMu9Kj0u/Rp9FLzVfPk87LzcvNR8wf0FfVk9PbykPJf81L0C/Xz9Zv3LvoO/U//OwDKAIEB2ALtA5UEAgY+B68IAguMDJ8NkQ/FEJEQKxC7D3QOlAz/CsMIgAZmBLUBTQDm/18A1f+h/nz/7v+qANgB2AIwA6UBkf+p/U78j/uN+xP8fv1B/l79kfzM+9f60vkO+lH6k/rR+1r8Lvyo+xz7gPqs+ln76vy1/rz+9/7R/qX9z/y2/CH9TP2e/cL+pwDXAVcCCwPSA+IDUQJnAeYBkQF/ASAC3wIlAx8CeQGmAf4BuALPAsgBjAE/AWsAqv/n/pn9/Pt5+/T6C/sT+5n61vpT+9v6iflG+ZP59/l++6T95P7e/wsAo/5t/XT8lvub+xP9mf6Z//oAPQK3AssB8P98/qr+HP9h/0oAqwFgAroCdgMDBB0E0AOLBDMFsQV9BlsHUQgtCVoJLwlwCfQIhwf5BsoGnQVeBJkCoQEGASoAZP/6/oX+0f3//fr9sf0h/aD8Qvxb+2D6/Pny+fn5tfou/Kr9x/7u/tH+M//2/7EAWwEQAp8CvALVAnQDuwJFAUYARwByAFgAZQBIAMn/0v6Q/i7+Wf7k/tL+K/9RAGYBnAFeAvkD5AQQBfEE7gTMBIIEOQQ0AyQCBwFbACEA0v9w/77+yP0S/Q79rPy2/B/9If0A/f/8BP3O/N38C/1H/dj8tPz2/EX8zPsw+236afq1+nP7/vx+/oX/ZgCKANL/+P7Q/pX+av4Y//3/jAEXAx8EDwUbBu4GJgeyB3IInQjzB7cHnQcwB5cGlQV3BRsF2ASiBFwE9wQVBbMF8QaGB+8GwAUoBNQCbwJDAscBHgF1AWcBlgAHAMT+fv0H/XH9e/2o/OL7ovs3/I/8yfyh/Lv7aPpW+v36EPtY+9D6KvoC+mb6gvvi/IL+0v+gAUQD1APDAwcELQTgAh8CrwHCAN//MP9s/or9t/xd/En8vvtf+936rvoP+/j6u/p3+8z8hv0T/ib/of9Y/+v+y/4l/zQAyAB7AKgACwFfAcsBOgLiATIBOQAS/1P+w/3o/JL8LP2S/fb9vf0R/V38mPvp+hf6ivq7+wn92f7fAEYCFAMXBK0EiwU3BgQGqgUnBtIGtwZTBtgFrQVRBboEpQPrAb0A+P8B/xr+Mf2z/Er99f1U/rb+M/7Q/Qr+SP6N/q7+Ov/U/ywAjgDHAA0BHAH8AE4B6QHPAdQAxv+V/zwAjgAaADP/4/6V/o/+yv6M/mv+I/5R/sX+N/+P/+z/TwBRAHwASgCVAFABXgF+AXACfANXAw0DHANdA2wDPgOgApkBIQEAAeAANwDq/v79P/6B/pH+kP6b/m7/GgDq/+3/lgAwAYsBGQKGAksC/QFpAe8AYQDk/6r/Dv++/vj9G/3M/Gn8mvyM/SL+ev75/sn+6f0a/Qf9hvxB/Lj8D/0V/sz+k/4W/vD+RQDrAEICjAMgBPUDGQSbBPQE+gSzBPUEFwXSBPsDswMjBFsEpgT6BDgFVwXzBC8EIAMAAi0BLACc/1cA7ADzAKIB4AFHAV4AOgANAI7/P/8J/0//o//W/73/ff/7/iX/a/9c/2X/Ff+S/tr9Nv22/FL8Zvx1/Pn8uP1+/hf/a/96/0//LgALAXUBfwGYAXIBOAEVARcBVQEGAbgAZADKAL4B0QFGASoByQEdAgYCaAKiApcCJgKaARUB/ABjAD3/2f6c/mP+KP5Z/j7+sP0N/aT88vyt/cT9lv0Z/pT+nf6W/Yr8ifuO+hn6dflx+cb59vlb+tr6y/rX+uD7m/z1/OL8Ef28/QX+i/4y/wgAywDJAQED7gNoBHwEMgXrBZUGigbEBbgFjwaMByIIYggUCOkH3AdkB8AGwAUFBbcEEgQXA/wBFgG+/zD+av1p/ej8a/wt/JP7dPtd++36B/rE+Vf6rPuQ/JD81fy4/Hr8Zfyj/PD8r/xJ/Oj7Dfy5+wD7zPoU+/b77/xt/oH/hQDhAYkDlAWVB5MIkAgPCfEJygoxC1gLLgtvCx0LvQmlCE8HzwWYBJwDqAKCAV8Ag//u/s/9xPtM+qL5l/gB9+H1JvUU9eD1ZPYX9wz4B/mc+d759fn3+bL67vsb/RT+pv5X/lf+LP4D/aT8tvwt/HD7zPuL/J78j/xh/KP8Ef2s/Vr+A/8aALoBAwSZBpcIKAkECp0L+QyIDRgNtAylDCoM+Qv+CxELzAmPB1QFlATvA4sDYgMWA3sCSgEhAMX+nf0J/P35d/j+9xb4efio+X76qPrQ+vb6IPua+6b7MPsB+6H6gPkQ+R/5Sfn4+QP7OPyi/Nz7FvsP+6762Pko+Wr5iPmx+Z76Vfzv/lwBuQPpBVMI0wp/DIwNmA7LD3MQeBCdEOsQ1hAYEOQOYQ19CxYJowa/BD8DiAHf/wv/Yf4v/Vn7P/nB9y/3KfbH9Kf0T/W39Wr1Q/Xk9HP0bfRH9Fv0ZPRG9K7zd/MU8+Ly+PMr9eD2afhy+QX6+Pkr+l/60foq+1/7MfxI/Tv+X/80AQcEawc8CdEJKwuiDesP3hHXE/8UChY/F2kX9BaeFj4V9hPhElcRsg/HDUMM8QkbB3EFIgP6AKD/o/3M/En8w/q6+C73DPcE+KD4DPig99f3Evjx95X4tfiO96n2q/WC9af1sPW89Zn1yPWj9Wz1tvQP9C/0tvMo83/z7fKF8Vnxw/JU9Hf28Pmr/VYCtwbACCIKQQz6DaAPYxLDFD4WpxcRGLAY0BhWF6MVPRMREFcMZwmLB5QFPQOkAHn+2fy6+5D6kflu+AD3/fb89lv20vYc9wH2F/Wu9AX0ePQ09Tr0WfJU8cfwRPBs8HPxyfJy89zzJ/Sk89Hyu/Jn8zj0d/UN9gr2a/aW9qb3y/mC/MX/MQT8CagONhEtE2sUPBUEF+8YJBriGiQchxziG6obmxqWGLYVuxI+EKwOywwBCkgIdgaGA/0Ac//N/db7n/k79zH1vPNJ89bzBfSO8hTx/fCF8dTxO/FT8N3vDO/k7XXtv+3E7VjtVOy365TrV+ua7H/upO9276buDe607YHuZu9C8bH0QPmI/poDsghmDMMOCRFEE38WlxpKHfUeDiFHIwwlLSV2JKsjMyK4H5wcMBoIGBYWYxNcDywLQQc9BK8BYv9A/XD7ufmn91/1v/PX8iHxye8576PuFe6V7X7tW+0i7XvtxO1m7VjtBe457nbtNe0o7bzr3+pc69XrEezT7DfuJ+9T8CrxJ/LD9QH7UgDTBSsL4w6mEV4UoxdtGrkbUx1hHgYg+yJyJColPiU3Iw8gUB1XG4wZkhc2FagSeA8xC+YGowPQAMb9SPu7+e34UvdN9Tv0RPTB9JT0HPQx827y1fI682ny4/HG8Gzu8uzh63nq9Ojo50vn8uao5pLmleZn5bTjCOMd5F3lyuWA5zzq4e2K8s738v1LA9oGwwhsC0MQnRTzGD0dgCCVI7UmJSrqLJwtlCx4K4YpXyZOI6Igzx0XGsMUyg6kChUHBwK0+yb3nPU69EDygvDc7xzwOPBn8OfwsfDS77HvPPAZ8UPxm/DZ7njsNeuj6mzpVuc65vrlSOXb5Gblt+Wb5cjlhuVG5DrkwuZw6d3sjvPF+xgDswjYDOYP7RImFw8bIh9uIp0jECWaKA8sAy4IMOMvmS0XK78o6ibOJB0hZhtDFVUQSgw4B38Bi/wE+F30rPL68fvwuu+37fHrSOsY6xPrr+rS6dHodOjj50vm6uRa5PfknuWB5b3ky+Mr4+jiRuSs5Q3l2OOU42vjw+P95S7orOr27n/2zf8fB7cMgBA4FKAYVB3zIS8laid2KdYshjFyNV429DRRNDw1SzUkMwYvVCrIJXwfDBiCEaQLwQQ1/Uj3RvM98Prs5+my517m8uVS5bnlv+aM5njm5+YP52vnR+gx6LPn+eZr5b7l0eYd5xLnQOf451voMujl5k3l4+PM4pvieuST53PqgO/Z9qn+oQYGDS8QURInFogb0x9hItUjNyZTKskubDNONsc2ujWOM60xNTAHLRoodyKPHEoWGw9dBxgAEfk686Xv3OzC64Xqq+dt5UPlPOeP6P3o3OjX5y/n4eb75q7mMeZr5srnm+oZ7WXuuO5O7lvteexK7LzrjOmW5m7lquad5+7ml+bj6D3tGfM8+iMBtAZoCfQJBAwsEPoS9xUdGosdIyKAKJ0uhjOaNps2yTWDNYY0WTKiMM8ujSoGJHEbKRNODC8GdP+h+Xr22PMw8crtmukB53XmEubc5ebmWuck5lXlR+Qi4+bireKA417leufD6GXpjerD6/Ps4+127SrrHehu5cPjYuOm5DjmZOif7sz3iwGHCvwPbhFYEbESzRQQFnAYfBoNHIAgIyn+MaU1EjZsNZM0YzFGKggkICBmG3wUuA2hB1sBhvzj93vzivB17S/trPD+86v0dvMv85P0gPbV9kH2BvZl9T30qPF87Zjp7+fs52/oEegZ5tzk7ORz5gDot+TW3hDdlt703RDdJeIX69H0qgLYFmstTj2sQH88ejgTMkEkvRUZDQgHEAP8BCENkRbHGx8dCR/hIasesRN+CpAG5gCG+ALzAvO69FP0iPU2+Z/54vQZ8CHyA/i9+BX06PCK9Gb5Tfcr8xX00vcQ98jxRO8j8BTxd+9r6vjmPeZh41vfuN6o4CjhB+F05EzqUOxc69ntTvPn9/P94w2OKbhEGFA3S7ZCpzkuKbAR6vvL7pLs6vXpB9ca0CbQKoQtpDD2KcwW/gbeBPcG5gLM+9X5K/7SAJ37b/Q+8i7yN/IT9yUACgViBH8F+AiHB7b++PTQ88758vvQ9gHyoPMs85LoLNwt1j3Ui9Li0MPQItMe133ap93k4f/gbNn52FHjNusa8dAH+jK/WMlfoEuHNMMnnBqYA2HvVu8fAiYXQCfMMgAzeCoBIwkdgxPZCUYJbxA0FtIRbwWb/Cb6V/ij9Pfx+vJp96j+8wVpB+MEKweJC0AH4/zq+J7+pAdYCzoFRPzN9sHvqON513/P0csTy1jLK86h1PXZ6Nyw3tLcXtbwz9PQUtrv5yv26QumNLZdPWWsTdYyKyLBFcsHp/qs+zcSfCp3MksrVx7LGGobiBbWCOUGQRfyJN4bJwOo8uTyRfSp6dPg9ez/BH0PvgiiASwAtwE+Bb0DQ/wc/RcM0BVgD1MIGAVb+yvr2trV0BfRNtX20vvM381u083VJdlA35DiYOXf6Grm1d6c3UTn5PBY+cwUikRKYThTjDTPIRIdlBfCBnf8Xg4QKhguxB7AEOEHqglfE6IR6Q0iHF0qHiYvE6n4Aeab5Wrr5+5o+OEJ0BeqF6UIi/T264P1GAJvAnkAqgyrGrsWxQgm/bHvBd7f0o3U+9jx2FXWv9AqyTHBJ7z8wmrUCeX78Pr2dPP16dnhpeHI7Bz5WwOHH2ZLCWASTogvXBzmFmkSIwrXDYEcMSDdG2ccoxdoDfAP7RwWIqUdYBwkIcAeOArs7zfoBfJz9YPxKfmfB94LTAYt/1r4q/XR/fcIdAuiCT8MUxG2ELEIoP598j/ihtWZ0QbRLNEs1FHTI8lzwvPH684f1CjfA+sx7grrJOah3xbcreOZ9nkIjhQlKQpILlofSakc5/76Bs4Z4BqTEzcWqB9BIQkV6ggXEMEl7i2MIZgYdhuDGUIJf/au74Txd/CQ7TzyX/q2+hf5ygA2BwsCOP4PA2sDfPte/KkHZwy7CQEG4vtu6WXa/tK0zGfLq9BA1I7VdNNgy/XI09Ke21reRuN15Unf9NlH3qvt+P2ABQUTeTYPWmxYIzRLGM4ZOSHXHdYcyycRL5UkaBIBCBgMCxhaJNEx7DOMJJsYOxUmBhDwkeym9pb6qfa58db13QD6AvL+zAASBn4L4w7QB7r7Vvy0Bp0KugaiAOz3Me3y4IvRSMddyrXSTdWA0HvITcFJwbDNHN+E6VvpnOO/3Uza9d7G68H2DwLxHMBD2VPFO8MX8wgRFRokkSNTIdkjrx7vEzMMDQWjBqod5jaGNBMf9hPvFTgRQ//C9o8DuAtL/w3yLvVt/Nj8YgCfCLUJ2wQTB2sMTQU9/BAExBAqD9YBjfPZ6TjmnOEx1rHO0dVv4K7c18yhvte8DMsb35XuqPYK9KXnGN7V4u3voPhh/kkSuDlCVWhDvBY8/0cK0x3vI58g8x1/Hm0ZnwcN+gMC0xwWNnM2yh8eDDkLmwwqAGL1APx5BiAE+vzv/Wr/P/o4+rMEWAyQCoALwBLdD7v/Ufdl/coAR/my8InwDvS87i/ei86szDrUWtYkz2DFiMH1x47TU93R5M3pY+jB4lTkM++o99D8tAtLLHBNXUtwI8oDsAx3IgMm7B5bGDMXtxpmFlkHHgPuGeg1bDdcIy8TnhGlEwMKlPu/+g4IrwyW/4X1nPaf+XL8QP65+kr4iwEMDXwMbgVmAXX+6/o998bxCPCP8yvx/eKZ0ezJYczi0L7Ri82uzOPTadtL33fj/+ZC4XvZV+OG93P/EwKTF3w8MFBeOx8WzQ/eJSIxUSmcIjkhRB6JFrYI8wX1GMgvyzbELNkanAzxCykNBwO7/MUFjQ2PBbf40vV9+Bz46vhS/voBFAG8AsMGBQT6/Xz7T/tK+0b5kfX17/DpMeVW3D/QE8u7zvvOvsRevCLCHNFq3p7mKug04uncFeC86vX1wfr8AZ8chj5kQzMo7BFRF+Iq3TI2K+gkMydaJJoUhQaUBuIWXS0wMwogSguNC8kRswku/Qr+6goxEjIKZPz79ZX4bf+mBBAErwRFDBkTbQ7HAR78uP9LBCcC/PjA8yLzHetx3bHXg9vk3kjdddeE0OPP2NYJ3ezfBuXv6lTqsuMZ4EjkIe3Z9ZP98gmZGYIgshqJEIgPsxggH2UfjiB2JJMljSGuGyUaRSDFJ+ootiMZHNMWpBFAB+D84PlN/RYAOv9q/Qn7g/hc+aD8PP8dAjcG1wnNCdkGJQOMAN8BUAORAB78xven8ZvqcOZw5SPmD+iz6EzlV+I447DjseJW45fj4ODE3ozent0H3l7gdeWv8Nb6kf1n/UEAngU5C44Q3BQ6Gn0hJCUQJI8kNSm3LjAxJDHnLT4pCybwIGwXqw2LCeAJHwt7CekC+fqQ+FP8d/7N/W3+dwDMAakBRAHf/8P9Bv6p/pH8tPg69SzzufFf8CbuQOv/6RLp3uaK5Xvmb+fB5JvfgNxP2ujWq9O30vDU5tc93Enj1OpP8SP0wfS6+mMFmA4fFfoa0R5JIWUmdS1xNMA39zcbOE44JjUWLYclIyEpHWAYLBUlE5QQ7AvSBEgA6P8KAHL+aPsU+ab47Pmf+vj5hfiT95H5B/x4+ob1yPF68SzzmfLG8APzjPRs72HnYeP35bjoFeYc4GXcgtyr2iDW5NNX1pPcY+QS6tDr8u098tT2Lf2xBQcOHxQ5GPsZARyMIU8mKCqqLUsusC26LeUt+yruJQkiSh8THKsWIRFHDFEHoQI5/uH85v4bAesA8/7P/l8AMQFvAEv+rPxB/bj9Lfph9A/yPPMT8yPy4PED8DXutOxU6ljnV+S545Hif95i2oHX1tb12FDbytxq4FTm1+sd70/x9/X2/NoESQqxDcESIhg0HEMfCCKWJJYnRyoYK4grRCyEKnomfiGJHDgXxRBpCzwHRgOw/7X9U/6NAAgCQQItAsQAbf+SAIYBOgHaAYcCZwAM/FT3BfSB88bzn/MA8ibv1uvl6HLn9uXR4ujfmt9W3w3ewNve2A/Zddxp4MXjMej67AfwpvOG+UQBTwmKEEsViRfuGksgKSRoJecmgynBKqgqLCrOJ1IlhSMoINsaJBV2EFsLYAV2ASIA9P91AMYARADx/6r/NP69/KD9Kf/s/f77BftW+fT1WfLa8Orw1vEl8iHvSOqI59HlweM+47PjxuJB3w/cm9qN2fDZZNve3lnkyel87dXvzvN8+Cj/6AhrEa8WCxrbGxkddh/wImkmDilcKyMsBixLK5goOSSPIAoe9hkjFacPdQoHBtkBTgBdAK0AjQGNAo4BNgAc/2L76vkh+6L7D/uq+W74XfWQ8a7vS++M72XvFO0/6czm2OTQ4v/g0d8u31PdltuK2u/Zedmc2gTeoOKq6NbtrvHj9Y37jQKhCT8PChRwGI4dryJ5JJ8lPyc9KWEr0ysdKjcnXyVoIzcgtBvMFhQTBhBbDWQKuwf3BVIF0wPCABL/7v1a/AL73/qO+j35KPkI+eX3Y/bv8wbywPGF8Rzw5ezK6DflHuKG4OzfRN533CXbHtoy2XXZPNtM3RDhQ+YA68Tvx/Wu+6gA4AU1DF0SYRcnG2sdRCDfIiIkxiTXJQUnHieQJr8kOCIAIIUezBzcGSAXBBSlD+gKWge9BEcDyANfAqv/xf01+5j4c/af9Rj1wPRe9Yf1t/T/803zIvL28ejx6vBX7nHqHeeQ5CbjoeJK4rPggN6n3CfcBd7h4MLkd+lR7qPzt/nB/u4DIQpDEJ4UeBYgGXIdSyEVI5sjoyREJTQlhCTSIu4heSGdH5UcDBpqGN0WxhPZD5IL9QX/AJn8qPlp+Z/5Yfh69Qjz9vAh7z7vSvA18HDwnPDu7j/tO+w77bDtEewp6sjnDuYC5Wfk6+NI40PiX+EA4e/gN+Id5Z3oRe0N8kX1NvnM/iEFFwsgEDEVJBoEHj0huiPnJIkmfCh/Kacq4yqfKeQmeCJNHzsd9Rp/GEoWpRMhEHMMgQfZA7ABHf8E/JX4BPf19k/2xfQ/8yryEfLA8r/y8PG18IzvsO0K7JrrHutp6izpN+ce5DbiD+Ip4hji7+Al3+/dWt4K4CLjkOcS7Qbylfb8+4gBFgiuDiIU4hjQHIMgEyRDJ0spcSo6LOwtby4DLdoqSCiAJQIi9x0bG4oYTBacEssMFgf2AoP/9fuF+bL37fUF9NPxMfCn733vdO4r7GrqnulT6F/njecI6JPonekB6obosOZ15p7ml+XT5FvlD+YG5xznN+ax57/rVvBZ86T2YvoQ/jUDbAjgDZsTIRmTHcIgdiPeJQcpwix6LysxDDIzMXsv2CyxKFIjBR0iGGsT1Q3SCD8D6f1t+Y32b/TQ8aPvDu7j7Djsguvd6rrrQ+xt7O3rXuoI6gDqLukC6I3nhuet5xroEeiE53nn7Oex54PnWuhv6kLs5O068ITyl/Qx95z7UwHqBmAMZhFVFv0aYR8vI1IldSdxKQor4ytkLN4ssyzbK7IpjyarIXsbsRRPDm0JUgVyAD76OPXK8Vfvi+0K7CXqQukz6ePndOft5x/pc+mS6Mvnkuct6N7og+pB7EXtgO1s7ozvOe/V73Hwhe9z76Lvre7F7p7wh/Il9JD1uPd1+7z/UwTlCP8MShF9FYEY/htAH2UhMCPVIy4k3yQiJgQnCSfKJYsjdiAOHUoaexaeETkM3QZBAv3+e/w3+Zv2j/R58gvx8+4S7Qfsq+u76xbr0+qo6g7q2enE6QjpuOjz6Y/rw+wA7Qbt4+zp7FrtjO0A7mbuWe928OfxoPNk9dr3Ffur/jMCFQYGCiMNuQ+WE90WFxmTGh4bTxzYHa4fNSGbIcIhfSEBIH0eshxRGtgYhxd7FPEPmQo1BTUBuP7W/Pr7U/u3+B30Re+V7dTthexx69Dq/emL6qLqUOnT6Dzq7OxK737wxPDM8dLzS/R09PT1yfZq9mP1sPVM90z5/fvh/Iz8v/2B/xkArwCvA5oHywi5CUkLsAvNC3IMXQ4SEC0R0BEdEnoSJBPXExAU+BPJE1kT1BFoDxQNFQqIBrcDwgHOAAv/fP1K+/z3xfS08dPwZfDJ70/vHu/27ofufu7d7n7vXPGU9Cn3cPix+DX6Qvxn/fz9Yf4B/1oA3gKeBTIHaAczCE0IWQf+B34J+gn8CasJAQgbBZ8CRAKyAqgDOgSBBAoFhQRVBDYE8wMFBLMEZAV7BOIBIgCx/tH8HPvg+Zj6a/sc/Gz7H/re+QH5EvdC9mD3ZviS+af5Evgz9jP2bviJ+kz8UP3P/Wb/AQEMAXQAZwCIAbICggPWAyIDmAK/AtYD5ASDBP4CPwLHAUwBkgGDAToAjf5q/hb/M//y/6ABAwP8AwsF/QW3BRYGsgb9BvMGCQaUBW4EhQKxAEcAswCsAI8Aa/8l/sP9QP0+/Yv8l/oE+u/7//3O/uD+mf5B/kn+rv6T/nf+ev3s/Bv9N/1g/Xf9wP3o/ioAlgCRAB8AQwFiA0sEfwOjAjcCmwHKAP3/Mv/S/oz/DwC8/3L/LgDsAdICYQL0AWsCoQOjBKwE+gJTAUsACgA4/2n9z/xh/WX++/6n/jn+pv7A/Qj9a/xA+zb8S/6U/rP9Ev7W/hn/sP6P/j3/kwCeAKP/LP9C/3T/+f7N/8oA9ADyAPYAWwFNAmwEiwV1BMIDdQPgAkADVgMDA4ICbAKJAwoEeALiAJQAewANATYB2f96/pf+4f5h/iv9g/2r/ir+Mf4t/oz+Af/2/v/9//2e/9X+bv0H/Pv7yfwx/Qj+JgAFAvgAjf+F/3YBEQOTA0oDvQJXAjEDnQMXAjAC8wKhAwwECgMfAhsDZgQtBPkC+QEeAcUAYQG4AWoBIACW/9YAwwFMAiEDsQNmA6gCWwJJARgARgD+AAIBJP9i/fn8Jv7d/y4A7/42/A77Ffys/Sf+yP2S/WP8+/qw+gD7ofrb+pP7u/vQ+1j7yvv9/HD9Sv2c/BP9lv4HAGECGAORApIDDgQgBaIG4wY9Bg0FoAMkA6oCbwHMAaEBCABN/tf91f9DAdf/8/7S/m3/wgDWAPIAGQHMAPD/gQAzAo4FnwiZCA0HbQVWAjMBQwZoCGUFHgIv/4z7tfoD/gUBjQDj/Nn6j/uU/vf/Uf0U++H7mv8HAyUE6AJSAEEAjAEICZASDg18/h30B/QV+3EDMAZ0/+X5rvlb/RcAFwBJAJgBgAXwBooCYv44/tUBJQWbA2cB1gAYAHL9lvvs/cQCIgVjAhX+Kv2s/xEB+v9b/c78wP5S/kf7G/ko+ab6UfwN/S77c/v6/p//1P0k/Or8u/8pAAP+ov3v/fr9nP6i/koApQSSB0oErv9WADEDKQXHA+oAKAB3AEEAk/3u+8P+vAFcAjwAYf1v/Nn7vPyD/pMA5gKfA1gCMwCDAAcDtATjBAoCEACDAsMDxAKzASMB8wEaA1gBmP+g/0X/oP95/8z+Rf5e/jIA+QCq/5397/vz+7H8Bf5mAKcCGgLB/2P/eAIDBsMH9AcmBtsDiwHNAL8A2gHTA1oBJ/1Y+mP7Kf9dAAwBJQKLAQT///yE/YwA/wHF/0D9EPxW/Tf/B//S/Un9if0t/u3+b/6x+3b80ACDA3ICOv9QACYAPfxj/BQAHQE5AUIBKP6l+277lf1h/y//RAA2AZIAJwC7/t7+yQA7AGIAxgTXCYcHzf+6+yb/+gXkB00DxPvy+AL+QQJKAfz9ePwuAOoDgAKnALkBHARWBY0EtAL3AekCOgLc/nH+yQFkA7ECIwCt/Yv9AADXAC3/i/88/zr+TP5v/eL8vPxc+9L6JP0qAQsBTvxd+rH9VAFgAQEAD/8AAEkDegQbAu/+mP4kAucDFASmAVH9sv40Ag4By/1e/YD/wwAp/wP+U/6Z/y8BlAJCATf+iv9+AlAD9gENAMr+zf+xAR8Ahv2s/h7/hPyH/H7/UQCu/hX+kP0t/bn9sP6J/hj9OPxr/Zf/+/6p/Fj73Pv4/q0CNgHh+ZT2CvzeAtEEGwLP/1ECPwaYBCQA5/+LAl8FagadA04A4/+CAiMFrwSqAyAEoQQXBOEDGQRBBBID2wAP/wj/3gEPA5UC8wIQBQMHRARJABb+p/2T/mn/l/5f+oL5Cv8lAun74PJU8xD9BAVuASD2U/FU+D8CuQQO/bz1evYe+5/+bf1Y/QYEBQkdBCX67/Z4/ogFDQYGAkH+VgFoBLMBoftO+eT+igU+B8QD5gEoA+8ESAZaBS0D+/+z/30CIgQgBMYCUgLJAe7/TfxR+eL5k/rZ+ez3K/cE+TP6dfeD9Ff49v3o/3oAR/9i/tP+uvwf+qf6G/0P/u/8J/n29P32jP6EBtcFm/3q/Y4IRhBXDiMKuwv6D5oR2A1eBqQCVwdmEcUSYwa6+4f9gwfmDJIHKP9S/dMBkAZvA+/5KPXx9Mv4tPtv+Gn00vBL74Huzuv+6frrFvHD8l7x9fEQ9dT3Bfg++zD/7/2m+yb+CgR3BFv+F/qS+3z+TAXEEPkYiR2xH2segBghFU8aVh9IHQgWdwuh/ev0VPam+5b9Gfpt9qv3Lfvm/H79c/0wAAsEvAObAdr/9/pH9W/11vh9++L7GvvB+NnzN/B88C3zzfFP6wfp4O198Lvs4+ps7rbz3Pdo+Nj3zfiH+gj9vf2u+C7z9PSI++gABQp+HyU1qjfHJhUVkhVAIuAmch1VDl8C2/3N/Ej2gO88820AjwpoB8D9a/paAQYH0wEa/BQAkgSKBKEBVPhD834AGBSHFvgJKgDS/Rv61fLi7QrrGOl45qrhjt143PvcSuKh7kj3pffB94f3A/TR80L3avat8gDuU+jX5drrKPp+DQsrh0cPSnQ2+iMxG/QaLiKLIngS6f+c9qTxPuwR7yb8cAd8DNINfw7qD1oPwgoNBHj/qf6R/iv7Y/aa9QD77wK3BIL/a/6BCagXnBVyBFT2Be795mHkxOOx4MHfi+ME6ePunfTA+Ej5xfZT9Xn30vug+unvTeSY4A7jIOWJ5+ny+A+WOTBY41JZLRsPlRO8JwMrHxkIA+/4fvnR8zHp5Oq8+mEMaBdlGT0VMhNTFG0QeARX9yH1KgJ6DZkFHPGX5VnwKAcLEysOkAmoEI8Wpgiz7A7blt1d6tbyMvBH6PDk1Oe66r7q6+jM5pHo0+4p8lvux+iW5pzmVebw5pDo/+py9BIHJyBSPQdUVVVPO7AYugm7DAgNkASz+Dfz1Pi2/LP2dvTA/uAMURnhIEgflhgLEsAKFAES92fxWfMG+YL5jPZi+3UG4Q1YEx0b5R9uG/sNaf0283Xx6e3p5urkYerS8VDzVPC176zwv+6y6XLlGuIZ3D3YYN827AvxWfFT+Bb9//VD71Lzfv3xCz0ljkfkXGdOziSeATX5bQKWBb76c/KM9rT7QP8+BXEH2Qr9FMsc4BlpEQQMvgMK+fn1JfnC9zjxsfLs/HwBMP8RBHQRGRt5GpkU7Q+FB7L4C/F196X7cfNp6FvfJdgh2zbptfVS+TD23fHy7ffl2dog1JvVcN2M53/y2fzs/7f5RfI08Uj19vtQCJcbezcsVdpaHzwXDofzifaHAkYEs/3m/w4LWQ59CQ4HlQu4GC8koiKtF/YJXv1f9O3w8vEu8XLs2u1X+XIBWgFyBNkOLRobI9UluhzHCv/51+2k5pfqY/Ii8ljvNPFw9Cnz7u8j7obtU/Fn9e7sxttw1FLbPOXZ6jTtEO4o8yL/XAN++MTxDPzTCXsXtzR1WklnM0kyFU30V/ePA7n91OwR6MX1YgdNDacFbAEfC5cb+yS+HFELaQAM+9Hz8+156y3tXPd2Az0FI/7m+w0FDxTiHj0e/xaxDif+F+fb2SndtOpk+/kFFv4g61TiyunH9NLzL+6g7zrwnerD4iLawNWY2ePgxut7/SkOUhJ9Dv4K7QT6/ov/9QieH8tBf1roUHskqPRT5P/sHvDn6R7uFwESFGsaLxQBDVwL7BSLIUUgHRWkBV3zK+hG6ADqoOmB7Qv52wahDn0NbgpdDnwVtBmBFkcKf/hl5JbZ3eVb/c8Enf+pBM4TzxfgB2X0T+wO7kDyFfKR6RPda9hL3+Lnn+wQ7wH00gCLC9oIaP4R8v7mf+lQ+S4DvQtkKRxO11L/LXn9V+fs9AwIDgZI+gz47fxXBMEM3AqmAmkEThC3FH8InPzl+Nvyv+qO6ebx9/uJ/y7/Ov5b/Kv4qvTW9dn+WQu5Ckb5mO058+T9SgFBAAADqgq2EywZBBGk/LfvWvH39HTxtuiW4JPgeOix7Y3s8+1e9ZP9jwNKBJX+XfS87DDwJfuRBaYTqC//UZZgA0jxFNvv++6jAXQMbAZm/GH9ywZhC2sGtAGqCdQWgxvpFYkF2/Fq58Dn7+x+8cb1ivoV/aj93fxy+WD0H/ayAukNNAlr84Lg1uXW+eAGDA4OF/8cIBmHDqwE7PkQ63Xex9ly1gLQpM8D2HvhU+qy87j5jf38BOsKfAjMAcD6UPGX62/xCvxzCg0mxkwDZk5Txh5Z95T3yQewCqUCSPrQ+UYDlwtOCMkCnQkmG5AkjhYk/9LvQ+lY6W3qh+hE6enx3AApDY4LnAFF//YIlBKyDigCEPkN+i3+Tfjd66TtAwJGETgR5gpMBCf70O4g6PzojugB5dDnTfQ8/fP5x/EW7ZHtjPEb+Hv9Lfw9+ID5d/3y/nD/ewDiCCsfADqiTflRSjtXC93hINrg6PTyH/E88o4ATBLZFxgPjQMpBroSfhh/ETn7Jud24xDnteqm6fHoa/UwCAENQgTo/mQDZA8wHdQgIRMY+0XoJuft9Ib+BPx2/REMqRnUGBcMlf76/AIFFgXY9/HpveRR5qzoBOjO5Zjlfuyy+QQE2ggXCIoAK/hJ86nuTe6d+8sMOhOsGgs0SUqqObkKpOfM5+H4df2X9W/xo/RT/qcHkAffBEsFyQxWF+IUIwWg9Sfs9ubf6Nbyy/p4+8L8RAB4AEf++ftA/CkFWRALDzAATPBB7AX25wSSCSUCnACRDRUdTh25DHH81/fJ+jn6u/B65uXmf/CL9zX1qO8l7+TzOfuIAAT/CfrV+N34nPap9t345fv+CLAkyD8dSto7jBfU9Y3ri/Jo+7L9vvrm/6gKnQd7/WT+pAxyHaEj8BhMAzD0ePGH8ifx6+6Z8Ab1zfUy8g3wnPVPBdQT+hEyBlECQARs/pPw+OhN9o4QIx96GA4LHgf2CfQJIv9/6tra69i13lbgfd0d4KfphvR//KICwAVeAoj9UPsP+jP2Xu395FvmOfPpAkQT7ymNRTBagVL/LhQO1gPeBvQAKvCn6VH1FwKVA1j+3vxHBvgXGyLpGTQJVv6v+qb1Z+2641Hepeay9oP+rfu4+90GuBA9DREHgge1BNX3yOnt40Xnm+8p93372/1OAiMIJQpWBj38yO844q/WNNdG4T3tMvf6/JwBWQUkBmgCeP3y/9MFzgHl9r/zQ/Yj/HwLHSBqOnBXvmG0SYYffgIf+5z7fvO06WrtDfWR96T6WwPuDWcYEiQwJyEW5vpP6t7lZ+RW4+fl3+ft5xruYviW/2UHPhPHGTwXihByB3X4UeSN17rezfO7AlIET/4u+i4AGgx/ExwQRQKh8gfpT+Ky3Ebf2en48dbyXvKV9WP5c/on+0UAeQUAAPr0ce7k7DP04gHqC88ZDjhTVcRSdixG/27stPLL9xTxYe+W/EoK8A66CA/+IwLgGSkqKx/MByv4z/Gg7DXpmeaO5WzsVfXL+Qz9BQJqBkwMQxRJFowQDAl5Aa72oO0X7a7zlvuVAOQEOwhmCkoOZBA+Cq38MvF/7PLqy+k36uTvRvcI+dr1X/MA9zwA4wjiChkFw/kz7iLrpe258GX4/AVSGdUvZ0DyPZ8lBwmS/Kz97/14+DnxgfFv+Nn7Gvw7AGIJrxSTHCkb3A1y/nv3uO9X58TnMuwv76rwqfGu9Df9KgZwCWwKCA2gD90LAgBN9Jz0OQA2B/4C1vyP/VQCswL1/rH89/4y/7z2b+yn5/Pp8/AW91b42/du+qf+JQDp/P36if5YAPb5jPEY7nvv3fiWCHoUJCDaNkJIDDx2HLsD5/wnA3YHaP0X8ADxa/tkAiUD/wNMCZ4U0Bw+FdIGzfvt8/nuJO3R7L/s++4w8yT4vvxJALkDDga4BXEFMwacAkH74PbH+B3+BwEV/ov2T/KL9YP9ogSZAiv5GvRC9mX4SfVu7J7kieit9E34ve986oTwLfoO/wX9cvqX+n/6V/p//FwCJwqaF0wt7EDHRZUyCRAH+yAE4BXgEkP/wvLB9Xb8ewEZCIgRphlrGn0V9gmo997qiOks63jsQu5W8G31+/vr/Y77q/49B3EMmA3RDOwJRQHQ8UzmV+60BEQP+gWG/MABLA4aFAMOLASkAPX+mffE6XbcPNdt2gLj9+ei5Xzj1eeG9zAKYA6mA+P5Q/pT/fD9Qv/sBRgTTB/RKNAzgDhYKnUMGfcz/foM4wpG+Ljqw+2c+IQCKAfACJYOaxSwEr4Ia/lI7TvsSfK896z4Svgs+tX7I/pg9ev09PrHAmoHwgR3/c/34fgNA4kQ5hC2AWz4ev43BlcGkgRHBJoBYftS9IjxV/C566vr5fM/+wv6jvEG7BfxG/rF/tr/u/7D/xkEhwM6/Cf7FgQrCn0SnSPpMF84mDndI8f/CPTFAWQGf/rs7mvqy+2A+CwEyAiaCdcTUx9xHXANtPbY61fxWvgZ9+bvI+m46DXw//ZJ+bb9DQcrD/0PBwxjBuH//vnB97v5t/p5+sT7F/++ATwBZgI4BmkHugJ7+eTv9eeV41blUer57OjsUe3f8DH1fPg9/4cGIQbL/mn0D+3/78H2mfr2AdAM1RbBJpU69TjUGdP95/66EA0Zvw6t+QDqzOlP9cwDeghYB8wMLRJQDQAB6fjo+XP+qQLiAqn6vPAl8Iv3vfrn94r4hf0IAg8EtwUlCJ0GbAMaBTsISwbO/Bb1BvsRCfYRKQ1O/aLw+/Ay9u7zPO186+7ulPC+7xzxb/R79Pnw8vJj/OEENgW8/uH3P/Ls75H0jgAeDpsXDSLIL1E3Ri/4G8gMxwxXF40aBQua8sPmXO4F/fkIAxGrE0YRRw2PCjQGeAH3AkoGXQSZ+U3sZufL6E3pJOnj7J7xYPT79lb6gQDbB8wJLwefBEz/cflk+jcAPgNeAO/6qvQk7vLrE/B9+Nf7wfIj6JTmLeyR8Sf0gPiR+4v4HvR+8/X1NPuBA1cE8vhW9N3+TQkaEJ4biCwdO0s7zyUADI8MpiBtKEMbNQL27FPrEPiuAWkEAQjFEYEXXRDhBLEAQgZNDCELuwG/81DpaOoq9Lv4TfMN7pLxevZY9q34WwDlB6QJsQC+8cPtnvl/Ak78VvGp75/1UvWr7rzvEfln/vT56e8J61DvzvR49VzxuetS6ZbuOPag9qX1J/nH+/76BPrR/qwGawxTE+8bLSh4Nu43viHyBVED+BU2Ij0azALy773tSvTi/U8IGQ/zD8UNGAk6ApoA9wVoC9UJgwJV+YjysvBX8t33hvuv+9P7Y/vf/K8CYA2YFUoRrwFy8yz1tgLlCeoBK/QI8dT5vwIJAtr4VfSU+on+kfdp8PbvAfGy8ATwZO5N67Hqj+8n9/z5u/XA87L2ivd992j9RAesDBwSCyBOLCsmiw+dAjsM3xruH/8VbgLo85Pyhf4ECRsHrQI2BMEFMAAy/OwCkAohCSABmfbP7xLynvjy/E35BO4r6Urw8/hL+r71Cva2/wIJUAef/uD92wlQFpMV2giY/MT4nP3qBLsFf/1P8VbqdO0A9Vv6EvrJ9JzzuvpgARUCq/1o9TDyfvkBA+cBLvXd6lHt7vvmCVATzR/6JdseLBXpEsEVjh0XJtUc2QYK+6D/oglVC3AI2gb0AP77MP+QBO4GzAchAy34aPPr9/L6nPef807w/+uf7DHx8/IY8tDxcPVT+dH62PwqAREFnAMtAi0E+wY/CBsD4fvl+kf+A/7o90/yE/HK8T7ws+8B9Yr6lPkr8yrxpPUF9/315PWK9Wn1XPRu8RrxKfl5BsgVZSPsJ6YiAxf7EiAfCixuKoAXBAOV+7YBKA7PECsH3/o59vn50AAFBy0GdQGT/q784vml+E/6g/o/+pT25e1Q7PnyXfdh9z33S/cz9YX2ZQJOFPMcGhNGBGwC2gxJFD4OegEX+xz+uP5+9g7vEO2G7bDuzu0U7OHtCfQF+fz3Z/S/8Frw/vbt/bv78PQ38+f0M/d8/M8J9xoSJAEjlhpcESkU6yaOMlkj2Qme/2QHuRHCE6kLSv5W9Yb2mv21AxMFLgE9+/v1Uvbd+k/8Uvkd9czwJOwh7uH2qfqB9ELui/FC+Dr91gLbCAAMDQjOAS4DSQyCEjIOrwSf/FH5iPk6+Bv21/NG8XnuseuJ7VX03Piz9lTwHOnq6U320f1I+Dfx/+6g8X78VQkEDlYTAyIgKocghBWfFh0jpTGNLUQTsgDTA1INqRM1EeMD0PXR9ZT/oQSGBNEBM/1m+CT40P10AHr6KfVp98/3+vMG9t38JP/V98LtUe99/bUK/Qfr9xDxxv0lEbMWighX9dPvm/1uDjEPcv7n7i3vRfUP9TPwxev+6R7rO+4U8oHzlu/y6//vmPZD+Aj2rfL28C/1Rf6GBGoLZBZPG5sXnxCsEMUcwSjcJOMT5QcVB5oOkRbFE6kFuflv+s8BpwWFBPb+Wfi39xj7PP+CAwMFZACN+WX2e/dD/gADyPyy8n3wBfg9/6T+oful/VIDwAbnCVQPtxDlDQ4OvhACDxAK2AbWBLEAzfj88pTwu+6I7w7xZu6D6afoo+oC66XspfCj8jzx+O5e7/ry4vgT/80FmRD9GTUbixTAC/EOJiI2L/YhcguFAkoGfxCHGEARGP2287j5swHLBfkDzv6x+tH78v4P/8D8ufp2+MDzu/Ly9lD61vg/9a/zIfEB8Qj68wRcBbP7HvY+/b0ILgx7CPQG+ARXARYBKAGZAG4AfP759YPrkuti9Uz+vP1g89np5uo28j/2IfRP73Hs+uu27PzwpPam+csB8BBpHM4e2BhnEQoUNCJ9K2ckVxJgBEgGRxHbFsEPsgKs+Rb5Yv/ZBeEFtP+R+oz5m/vF/S7+nfx++IP0j/Pu9P73Lfyx/ZD5M/b3+9MGjglR/yv57gHNCwgMFAgUB+YEeAERA/0E7gBf+av1m/i5+8T5hvVZ8rzxcPWm+AX1Y+7z6jrsVO8V7wfrH+eT6FbvWPVx9T71jALvFoEgiBq9DAALeRrrKVYp+hijB0EDLA5jGgQaWgtH+yn5rgO5DFMMIgdNANX70P3zAs8ElAA2+6r5Y/xu/xf+VPtk+8X8cv2W+476K/4lAoYDNwQMBmkFpQNtCPAQuRALBuT8c/uZ/YL8W/ej8YnuSu9y8HfwfvHJ8UzuierQ63PvefB67yHvoO7w69TtG/Yt+4v8EQFfCkETQxelFEQPgRDZGdkjOiAkD8sDeggmExAWKBEtBZH7cABdCs4L3QX8ARMAl/yH+zP81PmF9PTxjvMc9Yj3mPvc/ej70PnM+2EALwUSB+wCVf14AYUNchGLCk0D4AHQBwgO7gzOBMb6APZX+Pr7A/g273ns5u5V8OfwOfL48Jvr5umF7qjx+fH/8kTwPuvp8GX88wCHBD4PMxnmE48HaAiNGd4o0SQMEjUDbgZvFZsfjBdhACjzuvyyC6oOdgXw+V71OPnFAcoEuf6Z9X/ujO4O9an6Oftu+S32YvRg+o8C1gSTAbL8ZPupADEJywyUCI8BIwF7CIIKtwPg/sv/Nv5z9pDyafaQ+OTzV+6u7vbwefEL9BH2h/Lr7NnsnPSz+on3ovC+7cDwlPdwAesINwtIDc8L6QfuDOoaWCTxIDoTKQhqDswehyKQEjoDwAJ1CcgOGQ7vBY78M/wsBBQHzgEzAAwDcwE+/Dz7uv1r/qj+Gv18+Zr2dPd6/qgC6P0g+10AnwTeBKIIzQxWB9T/UwJFCZYJRAIW+2j4APdp99r6h/rE9IHvbPDb9X/2sfJ/8BPvTO0O7UvuHu8L8JHvWO758OX1aPyoB4cQ2QtAAksFbBM8HrgfEhbgBhIDtxDDH4Qa3gbJ/K0AHgitDJQKigLu+XT4GgAvBasA9/hn9A3ymfJG99b6nPjD82nzqfle/9n/if2A+o75If6uBeEFgP6G+qb+fQSzAyr+zfrj+z7/fQHnAG/9q/kt+RX7av3K/Rn6Z/UW9I/3xvlj95H1m/TV89b07vUf9DXyJ/VI+9wDnQxkDTMFEAINEBAgyCGAGI4O8AvoEUIeHCLFFfcHFAdfDZkO6Qp7BZsAaPwk+IL56P4m/t/5FPgy9831uvjz/2YAE/o/9hX4Hv0GAHz/KP14+XH3ofuAA6IHXQRs/KL4JP0OBBEF+v78+PT2PfmA/Zz8pPfJ9JP2mPkJ+GjzS+8H7+bwnu+l7C3qgevT8JnzqvHW72D1MwCVCSkRbRErB8YBwxCbJ7QqSxrzCo8JxBVgJJUnZhlkBx0CsQy/F/4TWgje/7L8Yv43BDcHXAHO9yPzOfe4/QP/XP0m+yT4N/hG/XgAFwDz/3L+If1//4YDzgbNBq0AYvuI/osCYADY/PX57/ag91X7xfsl+LX19vbe+eX6Bfd38jTyqPLz8hb0uvLz7pXsOe+M9ML0QfGQ9ED9TAICBckEgP/L/mwLMhkBF0gMQQipCxQUfxxPG2QSRwu3CpMNsRDBEEsM2gWK/tn8EQA1AYP9UPhY9Wvzf/ab+wf7Cvgl+Qv+Hf+0+8772wBRBSQFkQIYAo4EyAcNCG8D8f7i/6sBbABu/WH6SPly+Qf6uvnO+Av5qPky+iT4XPT88/j0qPLH72fw7vAj76/uZu/i7mfvDfOr+vQBUwKv/uH9xgT0D2cXuRbXDuQJMhCZGtYfpB2WEgkJ3gqXE1wYfxEgBc783fyQA/sGFQKh+qX16vYu/fQAev54+RX44vkC/tMBkAGk/gv/IAYxC3EIsAQwBygMnQwFCDACPP/R/48DrwTy/SH2yvMy+GT+Zf8O+0T0d/FR9XX6h/mM8wzwo+7b7YDvQ/K/8jrvYey97mH14fvw/tEAnP84/DwBqA34EioPzAmJB6gMBBZuGcgSIAmZBpEMfxCLDccH4QGB/vP+JQBp/hz6t/V39GH2Ifga+Fr4P/ks+Fv3vfk//t0DTAgOBuv+D/8GCesQVA76BED+BP84B6gOSAiw+a707PrsAX0BbPmK8nDzcflu/sf8y/Te8Lr1ofmQ9kLyUfFq8ejxSPLL74btg/Ln+2wAyf/Y/Ej8WgNqD98UZQ6yBqYIohHyGPca4xR7CvwF5w3rFy4UFghgAWsCrQXpBz8FIvz88+z0ffv8+/f1bPNN9gb55/nV+pD74fx9/vf+xgEpBkkIyAVTALcAvQZZCZQHfQQ6AEb9RP7aAaAB9/qN9yb75Pws+an2c/jU+Qr5a/Zy8xryAfME9v71evC+7JvvjfJ18T7ylvdU/J3+QP///moCsgkSEBcRwA5gDqER8hUfFzkVrhCVDPkMIBAdEJILpgcSBesCawJPA30A+/iE9dD3rvt0/MP3x/GX8JD2F/5j/3z51Pby/MEC8AJCAioE8QQBBJYDpgJnA5MGiQhrA2P6gvrHAmoGIQKh+yT4I/ubAZcD5f3P9gv3yfy9/Zv47fRO8wDyFPRO93718O/m7inzOPb5+Sb/ov9K/KX9ggRADNcRsBGzDOEKkRHsGsscSBQRDLoMlRPTFxQUQQz5BU8FBAiYB3gBXPsE+pj6mPrT+PP25PZo+Hj6GvxV/dn8+vsc/Sb/mAEIAnMAJACAAdkDQQS6ArgBJAG1/wX/8P5f+4344vor/cb5mfQg9aH4F/lF9mfyhvDT8Y705fQg8Sbsoers7fbxtfH37a/tcvJQ+dn+gP7j+ub7TgX6Dy4R4go/B90M9xXmGIgV3A5uC/gPFRYwFaENdge6B9EJ0Qi6BfUCAgLGAU4BogAQ/978DfxT/bT+ywAvA/kDIASuAtgBiAVLCnUJQQSoAh8H5gcdAdP+hAPUBTUCrvx5+rP8/f5x/oz7vfaT9Db4ifsp+Xj1Z/QL9NnzfvOM89H0vvTc8q/xSfIY9If4Bf2K/F77nv3/ABQFxwioCT8HFQXNBoMLkw8KDyMLzgeqCeAOCBD7C5AGLgREBtkJIworBOL8N/1kAjMDav4n+qv56vvv/hwBIQHF/+X/NgBFAkkG0wfwBYgCugGqBEUHOQUQAJL7GPky++D+s/vs8p7uhPKi9lz05+/C7sfvPvAw8Qv0QvWP8lTxKPMe9Aj1h/jg+aj2L/ZV/KsDoAQLAr0BQANIB94OjxITDdAGtwigEFsUTBEzDQ8KgQlWDqkSdQ+YCAcGIgkZDFYMFAn9AggA1QFXBLcD+f/H/pMBwwO7AjQA9f+oAdQDAAS4ACD+CgDVBBUG+QHB/RP9j/6H/xf95Pgy98n3w/fP9KLxN/H48nT0NfJY74rv+vCq8pHyou817uvwnfPS8x3z8fE+8lz2cfvh/1YCn/84/qsDSwyHEaMPVAolCDINXxRfFagPjAm1CZoPNxOBD7YJMQbiBmQK5wneBQkBc/1l/dz+EP7K+g34SPeU+cD8Qf4U/rv8Jf1GAQcGAwdaBD0ByAEPBngJDgj6AX/+CgCZAqwDwABK+SDzRPVY+7389/Yy7h3rPvBC9yn5mfOp6wTrFPQE/An6DPUD9Fj0RPia/1ICSgAI/zQBrwT+CDcOFhBQC7oFBggsEB4WuRObCtEDCAfiD78T6w2XBSEEpAZrCOUHSgXXAWX9//ue/nH/U/19+1H6Jvk3+l/8n/0X/oL9eP1C/9AArAAVAX8BJwFTAXoArP5w/dX8Wvwk+qr3k/dk+N/3h/VP9Er1UvaC9mv09/Gw8RLzNfV99XL0ZvP38kH1OPm9+pP5avtLAJ8DQgVuBggIJwq4DJMPBxHxD8cPdBK3ElYRPBIFE84Qng2DDXAN5Au3Cj0ITARSAXMCugShAfj7DfoH/AP+dv69/kD9NPsW/HX+yP/B/0r/iv7v/fv+JQBC/0v81/mj+VD4iPXm88jzMvPh8ZHwE+9B78jx/vMx83/wwO8S8iz1jvaa9dT0w/U/98n5LP5hAL3/OAC5AsgGSAsiD0wQEw4CDhATSBcOFZ0QVhAjEqkSDxJuD7QL4wkjCs8K9ghSBWgEVwZ0BqwDiwLIAy0Dzf/k/ej/pAIDAoX+d/v/+cz6A/6h/0z8Jfg++Uz8vPpz9RvzevZi+E/0wPBz8eTxpPGj8tLxIPA68TT0SfZM9Yfz1/Qi+V/83Pxw/Ib8//7JAnwFwQZLBiUF5QUaCPgKVg2lDBcKXQh6CRINTA+QDQcK4QeOCAIMjg2hCjoGQAMqAw0FKQbnA74AFf9n/l3/lAHYApkBpP8z/u/+QQJUBK4BH/xK+qP88P4W/4771PZc9S74C/tA+pD2cvQj9874pvfP9zj56PgH99n2dfmT/N79Cv6//b79GP9qAb0CCwMeA70CWAIFAqsCTAR+BRoFxgN/Ax4FPweDCAgJjQdlBiYJvAu5CYsGrAanB3QH7QfUBjoDUwIOBAcEtQK2Af0AzwAXABL/jP8AAEr/Tv4c/OL5zvtc/x3+ZvjH9W/59/xX/MH4nvWi9YL4y/s2/HT57fZ4+Jf73PuP+vP5WPoW+yv7xfpG+tL5c/pk+wr76Prx+z79mP4vADACkQMAA+gCHwZ8CUcKowoRC+wJRwnxC3oNuAoKCFAICgpgCWcGzwQOBbgE6AP9A/cCcwD5/qn+mv1A/OP7vPsd+on4gvhl+O74LvrW+f735Pct+iD8Kfwz+zr7cPvp+/H9SQA8Aa//Q/5g/gD/EQCXACcABv+g/h//6/+3AEoA/f8VAMn+yf3z/z8D6QTxAwQBzAAVBLgG8AaBBH0A0v+fBK4IOQcIA6wAPAKbBQAHxgVkA68BdgHFAXoB4ACiAGX/fP14/Fj9P/8u/6z+J/5D/Xv98f13/r/+AP7B/Gj7EPvl/P3+qP51/Iz61fqk/W3/4v08+0j6oPue/YH9dPwA/Yr9z/zx/K7+CQAJAm8DmgHy/kT/GwNgBccDNwFbAAoClwS6BjoGmQPlAdkBtQO9Bc0FrAPmAA//xf4dAUEDZgBO+934V/qe/jwBjv8h+/34EfwVAOABXAAu/Ij5t/pP/eT+3/3A+U33Ufh3+pP8Qv3S+mv4NPp3/uIAw//I/Qn8hfsJ/p4BgQIRANT+nwCXAyQG2AZ5BTsDTAOjBCUEQwM4A68DvgJqAVsBNgFNARUCWgLOAHX/pQBuAkoC2ABC/9/+hf/IAKcB+v+d/hT+pv03/k3/AQFAAF/92vvD+7L8pP0p/tD8Sfo1+sb8PP76/Ff8gf3I/SL8u/o/+339WP+E/n37Dvp3/FAAoQJMAl8AJf/x/2UDJgZvBJUAUv/2AawE2QXiBMwChwIpBO0GsgihBukCOgLXA8UEewRMA+oAAv8C/6P/v/+6/xYAf/+J/uH+wv/OAAEBGP/0+8X6yfxk/xEAWP7y/AP95P1aAGMC7gH0AAUB1AI8Bd0FkgRtAioA5P+KAUMBdv8U/yz/O/7e/V/+W/7r/dr9/P14/an8e/1b/13/c/3h/Fr+fv+U/4L/FgDzAAUCzgKFAvsBiwKYA9gDwQM9A/0BjwLAA2cCaACz/64AwQEYAYH/kP42/vn9cP6u/p39//zT/TX+7fyH/BH+J/+Q/sv9Q/4JABABOf99/ZL95P2d/l3/c/53/Kn7kf0zAMcAaf9H/hcALgI6AqsBlwBc/4b/EQJnA2YBaP+M/wsCCgWuBbIDxwE2AYcClQXZBUACG/+b/ykB1wDY/2f/qv+1/7P/0f+K/z3+5P3f/j7+zfx8/KD9gf1D/AH9r/6J/kD9xf2t/nz+hf5j/0z/w/2D/cH+Kf+G/j3/UwDWAAkB1f/m/Yf9Gv+S/4T/M/9Y/k7+Xv4C/9z/sv/V/rz+8v4m/ysAbAD1/hL9kv2Q/57/zP2r+/j7G/9wAfj/+Pyn/Cj/ogGgAA3+R/2z/vwAXQLgARUA/v8KAg0FcwXkABP9Xf79ASgD6wH6/y7+JP4TAGoCFgKN/0j/PgHcAXcCXQTvA7YAv/8qAgsEOAOqAFX/0wAMAosBkwDZ/rf9Z/4xAHMAx/5f/rD+MP4d/uf+2/64/X/9K/4G/w4Avf80/yUA/AGcAuUARQAHAqEEBwZuBHEBmAC8AwMG8wS8AyoDSAOBAzQEBgSaATkAcQG6A7cE5wMGAx4DkQOjAxMEvgTfA4ACNQI6AX4A+wGkAzADPgFmALABqwJbAd0AWAEOAMn+kf5Y/zQAEgC7//P/AAGzAS8Bif9B/8YALALxARIAq/9tAHkAcAApAXgBSQFdAVYBIAEmAJn/kgD6AFf/6fwU/CT9ZP7o/WL8J/yA/a/+w/7v/T788Ppl+1j9XP3W+9z63/lf+pD8Iv6o/rn+5f/NAF0AygDVAXMBYQAnATgCdgFd/zf+7v49/9P9bf0A/mL+lf8qALj+6Pyw/YUA3gFKAVv/XP3O/RIA5gBf/0v9Jvyl/eH/NgEWAXkAgQDvABAC+wKJA5IDJwKK/77+3gAHA2ACu/+X/qr//ABVASsBkQB3/+z+Rv7n/XP+mP+WAf0BIQAl/wcABAGCAbMBGAFPAD0BygJsAmUAC//w/9YAQQEYAtkB7ACk/6H+L/+RANcBjgE4/zP9XP3Q/l//mP6f/S/8dPwr/x8Anf5x/fX92f39/PT9MgClAO7/R//c/kEA3AFKAlkB+QA+AeEAcP8c/jn/y/9z/o79QP0C/nAAqAEAAXUAEwHYAl4E4QOyAZMAyAFrA6YEqQTgAr4A8//mAC4AKf66/QP+L/07++X6TP36/7YAEAAcALEBVQSNBcgESAQ4BHwEDQXmBAAEuQTlBaQFbwSDA20DSQPeAqUC1QG3/wD/3wC+An0Blf48/Tj+sf91ALwA7/67/MT8wv3f/Y78rfuu+8X7B/zq+7v67PlE+538cPym/GX9av2G/Qj+s/7l/tz++v5H/5//UwBjAVcB9wCQASUCpwFNAUYCagOUAsoAKgB/AB4BFwFOAK//BP9A/xkBBQPZAd7+b/6k/50AUQAR/xT++v2b/pr/lwBGAVEB1QCqAOr/0//QABYBVwDd/g3+jP6a/+v/Cv+f/pL/lQDq/6/+zP2u/R0A3gHXAKX+CP6p/oT/EAHSAUECFwKeAf4ApwCcAHwAkABWAI8A4gBiABgAPgHsAfsBMAJXAcMAFgEuAfUA0gAmAP//pAEuAiIANP/3AU4E6wOfAuQAnf8lAEoBOgDf/tz+u/64/vn+U/+s/wgAFAExAqMB+ADaAVgCjwAd/08AxgFLATz/pf2n/hUBiwIXAlAAlf8eAO8AGwBc/kT+dv8DAEj/gf45/pP/5gDkABYB+gDEANAAXwBUABEBJQJUAn8Ajv9kAOQACgDH/xsBIQF3/+n+8//OAOoAdgCa/x3/qQCIAfsA4QBuAfIBGwHQ/1v/OgAXANz+w/4c/1T+Pv7Q/o3+hP4C/7T/+v4h/oP+6P61/sX+iP8c//D+VQDJAT4CXQLuAsUCdQJTAi8DMQQZA4EA0v+VAeQBUwAS/wb/QgDcAQECFgGeADwAuP5R/Ub97/2m/vf9Cvz3+qX7vf18/0z/kf1C/VH+nP4o/wn/Xv5I/sz+PP++/h3+d/6h/3IAMgF/AdQAMAHFAfAA0v+9/yYBkgHo/wT/FgAeANz+9f5w/8n+9v6YAC0BBADf/sL/OQGmAZYBmQE9AVT/Gf39/L7+Kf8q/s381Pvb+4L8Rf6r/4n/N/+X//IAkwF7AB4ATgDk/9j/ZgCMAOX/LP+N/3wAxwHoAckAz//e/rD/ewEeAjgAvP0+/Y3+UgAYAYwAWQDFAPoA1wD+/5r+Gv6W/qn+DP+k/wYAAABEALoAWgEMAff/tv9TAEEBdAFvAREAif4S/74AbQDE/lP+kf5n/+b/Xv9R/or+fAAnAWABhQGHAE0ALgCV/6b/1P/1/uH+Rv/M/4IAEABa/73+dv/7/w3/V/7z/Xv+xv98AND/1/4V/1cATAHu/+T9vv1D/18AYgAkADsAygBNAWcCTwL8/3X+sf+PAT0BTAAWAOH/GgCiAPIANQAl/93/zgAHABr/QQCbARkBegDGAD4BrQG9AW0BRwKBAnoBQgB//yz/A/+JAD8BNgCo/93/uv/z/pn+V/6e/kH/Qf/y/mz/bADNAB4BMwKWAq0BSQFxAYcClQPnAkYBCwBCAVECkgFSAXEAWv8y/27/sv7o/G78Ff3C/tv/Pv/Q/nL/lf8F/7X/hgCUALQATQH7APj/+P8gAWYCVgLlASECswGkAN0A1QDt/woA2/+z//r/t/8S/6T+e/+VAFkA7/70/qn/HQDv/yD+Xv34/cb+aP/L/9X/Yv88/37/q/8e/1X+Iv/+/zX/WP2Q/MD9U//W/wH/sP5z/yoAnP/6/iP/Lv+W/nT+7f6x/h7+Uv1R/UL+mv5H/xsACgAC/1X+xf4AAMMAowC6AFkA1P/v/nX+JP9+/5b+xv4//xj/b/96/zX/Jf8jADkBNQF5AUYBbgAiAdECAQOaAKD+gP4zADUBMAF8AVIBUQDV/9UAZwFIAUEBRgFJAC4AcQGVAvYCYAKXAesA3wA8AeIA1v8Y/+D+gf6c/hf/J//N/08AAwCx/8r/PP+i/vb+R/+H/zAApQAiAO3+df6C/8T/UP8d/wf/bP9f/8f+fP7C/ur/TAAs/zT+B/42/in+g/1m/c39JP4b/yL/SP64/dX93/0d/o7+lf8/AAYA3/9B/7P/3f/8/9H/MgDGAAgAyf5C/iEAmAGLAV0BnwCLAK8CMAODAa8AfgFuAlgCAAGW/wQAHgEpAQoBUwFDASUBegD0/97+Cv6u/jH//v71/nb/RQDQALIAsgD6AHMBwgE1AcoAZgEbAn4COwJOAncC8AIoA+QCRgKHAUUBGwEKAQcBTAG7ALAAOgF0AQQAtf31/Mz9Sv9V/w3/Yf5s/R/+2P5Y/hr90fyl/Q/+If4K/on9v/zS/TL/+P54/pX9Wv3e/WL+5/7Z/m/+Lf40/j7+xf53/0X/ev4J/zcAYf/o/fD9Kv+t/wMACAEHAQsA5f94AKcAVwD6/4MAXQEzAI3++P4pAP0AnwHdALr/lv/g/7YAFwFXAVABfQARAO3/PAD9/6n/7f9pADQBHgHr/5L+Z/67/wsC4AL/Ad4AP/98/vT/6gBZ/3/9av18/iD/RP8t/7b/iQDaAIIAu/+w/lv+6v7U/vL+SP+S/xIAjQBhAKr/Hf+T/sj+Xv+A/5b/SwDu/+n+zf/fABwAJP+R/+z/LgBvAMj/rP4C/10AkwBFAVIBKgDb/7f/kP+9/63/WP+h/wUAOQBIAEcAMACa/1//x/9//6n+Sf7W/sb/6P+A/yb//f5o//P/3/+C//3+E/+Q/8b/ZADcAKQAkgAxAUABbP89/g//KABLACoA9/8d/yD+yf2M/hT/qv6s/qL/AAAQAM4ADQEQAZQB0QFTAncC7wFuAWgBDgHLACoBKAHfABwAtgAZAWkAhAACARAB2QAaAJ3+R/4R/7n/ZP8t/xEAhwDo/xkA0QDUACcB/QD8AA8BdwAxAP//FQG6AS0BkAHMAJL/Yv9yAJIBtgCQ/2b/rACXAYQBJQHsAG8ApP+P/5D/Zf9r/08ABAHtAOIAYAHhAekBhwInA3QChQFiAd0AUgCyADEAmv/A/woAOADC/z3/gP80AAQA9v/r/zUAXgD8/nn+af/9/1EA+QD/AAcA//7a/i7/qP63/bD9Vf5z/lT9lfzG/B792P3z/Qf+mf4A/9X+1/4f/+/+pP4G/tb9Z/6V/tT9HP1n/Y/9Jv6C/97/Tf97/zUAZABmAMIAFwGRADYAzP/c/pz+lf4S/mX+hf5S/tD+gf/4/xQAKgCOAAIBpwETApMBxQEzA4gDZQHe/xUANgFUARYBhgHTAID/DP+m/4H/zv6v/qH+cP7B/jL/mv9RAAIBKgE8ALX/HgBi/0D+h/6a/9X/DQCzAN4APQEEArcC6wJVAkABowBlAGoAdwD+AMoB5gEuAWsAqgC0AAAASP8e/0z/0f4+/jv+cv4m/1f//f4Q/+f+af5Q/j/+cf4L/yb/8P6k/iL+Yf08/bX9Of5h/jb/pv/2/t3+9v6m/zEAjgCwAMkAKAGXAKf/K////8UAVQA5ACsAQwCeAHQAlAAPAR8B7gB9AdoBOwEfAYAB+AAFAKv/JwCnADEArv/6/qj+ev+sADIBPQFeAc8BGALgAUcBdADv/5n/dv+a/ygAsAApATIBgAEeAgICrAEsAiMCSwGzAH8AMwEuAUMA4P+jAKMBhwHr/1v+S/55/7QAlgA6AIkAAgFVAY8BSQGwALYAxwCjALv/Z/4h/pP+zv9SAHz/Ef+y/kz+Y/41/xIAHQC4//T+Fv8sAHcAbQAlAasBVQHzAJkAcQDoAFMB6wCpACMBCQFLALb/XP8y/83/hQD7AEMB1wBJANX/DwDTAIABpwFpACv+7vww/rP/IgBwAK//tv5z/6YADgAM/2P/UQFnArcBSQD1/U39a/7ZABECFgHP/zL/6P/mAJwBOgCX/uP+rwCvAdUAbv+8/j7/ff/N/08ApwDKACoB5AB3APoAkAEaAvgBnQCd/1X/Fv/P/mr+DP5N/n3/mv+V/of+MP9s/5j///8fAOz/5f/L/7X/yACVARcBkQE+AiYBtAD7ANgBcAILAQ0AHQBLALMAaACHADIB8QBGAUUB5P+S/iP/2ADCAd0Al/9n/2b/Xf/P/zcAX//l/t/+5f7c/mz/AQBRANYANwGzAZQAsP9A/53+q/8iAQABGQBd/33/OgFzAkkC4QCQALEBzgF3AekASQEzAokCOALfATEC9wGSAV4BiAEUAVsABwCk//D+sP6A/xQA9P/c/kT+y/20/V/+Ev51/Vb9mf2h/bT9Uf2b/Sv+4/2Z/Ub9\" type=\"audio/wav\" />\n",
       "                    Your browser does not support the audio element.\n",
       "                </audio>\n",
       "              "
      ],
      "text/plain": [
       "<IPython.lib.display.Audio object>"
      ]
     },
     "metadata": {},
     "output_type": "display_data"
    }
   ],
   "source": [
    "text = \"อยากกินหมึกมันไก่\"\n",
    "print(f\" > text: {text} with sampling rate: {ap.sample_rate}\")\n",
    "\n",
    "wav, alignment, _, _ = synthesis(\n",
    "                    model = model,\n",
    "                    text = text,\n",
    "                    CONFIG = C,\n",
    "                    use_cuda = USE_CUDA,\n",
    "                    d_vector = reference_emb,\n",
    "                    style_wav = None,\n",
    "                    language_id = language_id,\n",
    "                    use_griffin_lim = True,\n",
    "                    do_trim_silence = False,\n",
    "                ).values()\n",
    "print(\"Audio Generated\")\n",
    "IPython.display.display(Audio(wav, rate=ap.sample_rate))"
   ]
  },
  {
   "cell_type": "markdown",
   "metadata": {},
   "source": [
    "# Save to Folder"
   ]
  },
  {
   "cell_type": "code",
   "execution_count": 18,
   "metadata": {},
   "outputs": [
    {
     "name": "stdout",
     "output_type": "stream",
     "text": [
      " > Saving output to output/Jinny-04-en/best_model_160217_อยากกินหมึกมันไก่.wav\n"
     ]
    }
   ],
   "source": [
    "file_name = text.replace(\" \", \"_\")\n",
    "file_name = model_name + '_' + file_name.translate(str.maketrans('', '', string.punctuation.replace('_', ''))) + '.wav'\n",
    "out_path = os.path.join(OUT_PATH, f\"{SPEAKER_FOLDER}/{file_name}\")\n",
    "\n",
    "print(f\" > Saving output to {out_path}\")\n",
    "\n",
    "os.makedirs(f\"{OUT_PATH}/{SPEAKER_FOLDER}\", exist_ok=True)\n",
    "ap.save_wav(wav, out_path)"
   ]
  }
 ],
 "metadata": {
  "kernelspec": {
   "display_name": "capstone",
   "language": "python",
   "name": "python3"
  },
  "language_info": {
   "codemirror_mode": {
    "name": "ipython",
    "version": 3
   },
   "file_extension": ".py",
   "mimetype": "text/x-python",
   "name": "python",
   "nbconvert_exporter": "python",
   "pygments_lexer": "ipython3",
   "version": "3.9.19"
  }
 },
 "nbformat": 4,
 "nbformat_minor": 2
}
